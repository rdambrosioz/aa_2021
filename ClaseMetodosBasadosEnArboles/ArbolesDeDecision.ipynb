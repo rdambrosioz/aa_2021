{
 "cells": [
  {
   "cell_type": "markdown",
   "metadata": {
    "id": "fZZUpv6uc2Pv"
   },
   "source": [
    "# **Métodos basados en árboles**"
   ]
  },
  {
   "cell_type": "code",
   "execution_count": 1,
   "metadata": {
    "id": "pQtJZbqSbsmS"
   },
   "outputs": [],
   "source": [
    "# Importamos paquetes necesarios\n",
    "import sklearn as s\n",
    "import numpy as np\n",
    "import seaborn as sns\n",
    "import pandas as pd\n",
    "import matplotlib.pyplot as plt\n",
    "from sklearn import datasets"
   ]
  },
  {
   "cell_type": "code",
   "execution_count": 2,
   "metadata": {
    "id": "H-6Y50oDdOJb"
   },
   "outputs": [],
   "source": [
    "person_df = pd.read_csv('https://raw.githubusercontent.com/rdambrosioz/aa_2021/main/500_Person_Gender_Height_Weight_Index.csv')"
   ]
  },
  {
   "cell_type": "code",
   "execution_count": 4,
   "metadata": {
    "colab": {
     "base_uri": "https://localhost:8080/",
     "height": 419
    },
    "id": "B_OYNoLGe0oR",
    "outputId": "83f0edf2-2eef-41d4-b0df-239e584162f7"
   },
   "outputs": [
    {
     "data": {
      "text/html": [
       "<div>\n",
       "<style scoped>\n",
       "    .dataframe tbody tr th:only-of-type {\n",
       "        vertical-align: middle;\n",
       "    }\n",
       "\n",
       "    .dataframe tbody tr th {\n",
       "        vertical-align: top;\n",
       "    }\n",
       "\n",
       "    .dataframe thead th {\n",
       "        text-align: right;\n",
       "    }\n",
       "</style>\n",
       "<table border=\"1\" class=\"dataframe\">\n",
       "  <thead>\n",
       "    <tr style=\"text-align: right;\">\n",
       "      <th></th>\n",
       "      <th>Gender</th>\n",
       "      <th>Height</th>\n",
       "      <th>Weight</th>\n",
       "      <th>Index</th>\n",
       "    </tr>\n",
       "  </thead>\n",
       "  <tbody>\n",
       "    <tr>\n",
       "      <th>0</th>\n",
       "      <td>Male</td>\n",
       "      <td>174</td>\n",
       "      <td>96</td>\n",
       "      <td>4</td>\n",
       "    </tr>\n",
       "    <tr>\n",
       "      <th>1</th>\n",
       "      <td>Male</td>\n",
       "      <td>189</td>\n",
       "      <td>87</td>\n",
       "      <td>2</td>\n",
       "    </tr>\n",
       "    <tr>\n",
       "      <th>2</th>\n",
       "      <td>Female</td>\n",
       "      <td>185</td>\n",
       "      <td>110</td>\n",
       "      <td>4</td>\n",
       "    </tr>\n",
       "    <tr>\n",
       "      <th>3</th>\n",
       "      <td>Female</td>\n",
       "      <td>195</td>\n",
       "      <td>104</td>\n",
       "      <td>3</td>\n",
       "    </tr>\n",
       "    <tr>\n",
       "      <th>4</th>\n",
       "      <td>Male</td>\n",
       "      <td>149</td>\n",
       "      <td>61</td>\n",
       "      <td>3</td>\n",
       "    </tr>\n",
       "  </tbody>\n",
       "</table>\n",
       "</div>"
      ],
      "text/plain": [
       "   Gender  Height  Weight  Index\n",
       "0    Male     174      96      4\n",
       "1    Male     189      87      2\n",
       "2  Female     185     110      4\n",
       "3  Female     195     104      3\n",
       "4    Male     149      61      3"
      ]
     },
     "execution_count": 4,
     "metadata": {},
     "output_type": "execute_result"
    }
   ],
   "source": [
    "features = person_df.columns[0:-1]\n",
    "person_df.head()"
   ]
  },
  {
   "cell_type": "code",
   "execution_count": 5,
   "metadata": {
    "colab": {
     "base_uri": "https://localhost:8080/",
     "height": 486
    },
    "id": "nq8IujFZfMjd",
    "outputId": "fc34ed80-5a68-411a-b8f2-b2872df6d9fb"
   },
   "outputs": [
    {
     "data": {
      "text/plain": [
       "(Gender    object\n",
       " Height     int64\n",
       " Weight     int64\n",
       " Index      int64\n",
       " dtype: object,\n",
       " count    500.000000\n",
       " mean       3.748000\n",
       " std        1.355053\n",
       " min        0.000000\n",
       " 25%        3.000000\n",
       " 50%        4.000000\n",
       " 75%        5.000000\n",
       " max        5.000000\n",
       " Name: Index, dtype: float64,\n",
       " <AxesSubplot:>)"
      ]
     },
     "execution_count": 5,
     "metadata": {},
     "output_type": "execute_result"
    },
    {
     "data": {
      "image/png": "[encoded data removed]",
      "text/plain": [
       "<Figure size 432x288 with 1 Axes>"
      ]
     },
     "metadata": {
      "needs_background": "light"
     },
     "output_type": "display_data"
    }
   ],
   "source": [
    "person_df.dtypes, person_df['Index'].describe(), person_df['Index'].hist()"
   ]
  },
  {
   "cell_type": "markdown",
   "metadata": {
    "id": "uGOtso41hW1t"
   },
   "source": [
    "Imaginamos que queremos predecir si la persona es, o no, obesa. Según la descripción del dataset, las personas con indice de 4 o 5 son obesas, por lo que podríamos crear una variable que refleje esto:"
   ]
  },
  {
   "cell_type": "code",
   "execution_count": 6,
   "metadata": {
    "id": "YA4adRxJhh5b"
   },
   "outputs": [],
   "source": [
    "person_df['obese'] = (person_df.Index >= 4).astype('int').astype('str')\n",
    "person_df.drop('Index', axis = 1, inplace = True)"
   ]
  },
  {
   "cell_type": "markdown",
   "metadata": {
    "id": "KX1F0YjciW6H"
   },
   "source": [
    "Eliminamos la columna Index, en su lugar creamos la columna obese, con un 1 si el index era de 4 o 5, 0 en caso contrario"
   ]
  },
  {
   "cell_type": "code",
   "execution_count": 7,
   "metadata": {
    "colab": {
     "base_uri": "https://localhost:8080/",
     "height": 419
    },
    "id": "gtw4GnaPiMX1",
    "outputId": "4a27a630-694f-4869-801e-e6f6909dd008"
   },
   "outputs": [
    {
     "data": {
      "text/html": [
       "<div>\n",
       "<style scoped>\n",
       "    .dataframe tbody tr th:only-of-type {\n",
       "        vertical-align: middle;\n",
       "    }\n",
       "\n",
       "    .dataframe tbody tr th {\n",
       "        vertical-align: top;\n",
       "    }\n",
       "\n",
       "    .dataframe thead th {\n",
       "        text-align: right;\n",
       "    }\n",
       "</style>\n",
       "<table border=\"1\" class=\"dataframe\">\n",
       "  <thead>\n",
       "    <tr style=\"text-align: right;\">\n",
       "      <th></th>\n",
       "      <th>Gender</th>\n",
       "      <th>Height</th>\n",
       "      <th>Weight</th>\n",
       "      <th>obese</th>\n",
       "    </tr>\n",
       "  </thead>\n",
       "  <tbody>\n",
       "    <tr>\n",
       "      <th>0</th>\n",
       "      <td>Male</td>\n",
       "      <td>174</td>\n",
       "      <td>96</td>\n",
       "      <td>1</td>\n",
       "    </tr>\n",
       "    <tr>\n",
       "      <th>1</th>\n",
       "      <td>Male</td>\n",
       "      <td>189</td>\n",
       "      <td>87</td>\n",
       "      <td>0</td>\n",
       "    </tr>\n",
       "    <tr>\n",
       "      <th>2</th>\n",
       "      <td>Female</td>\n",
       "      <td>185</td>\n",
       "      <td>110</td>\n",
       "      <td>1</td>\n",
       "    </tr>\n",
       "    <tr>\n",
       "      <th>3</th>\n",
       "      <td>Female</td>\n",
       "      <td>195</td>\n",
       "      <td>104</td>\n",
       "      <td>0</td>\n",
       "    </tr>\n",
       "    <tr>\n",
       "      <th>4</th>\n",
       "      <td>Male</td>\n",
       "      <td>149</td>\n",
       "      <td>61</td>\n",
       "      <td>0</td>\n",
       "    </tr>\n",
       "  </tbody>\n",
       "</table>\n",
       "</div>"
      ],
      "text/plain": [
       "   Gender  Height  Weight obese\n",
       "0    Male     174      96     1\n",
       "1    Male     189      87     0\n",
       "2  Female     185     110     1\n",
       "3  Female     195     104     0\n",
       "4    Male     149      61     0"
      ]
     },
     "execution_count": 7,
     "metadata": {},
     "output_type": "execute_result"
    }
   ],
   "source": [
    "person_df.head()"
   ]
  },
  {
   "cell_type": "markdown",
   "metadata": {
    "id": "a58l45oWjlpp"
   },
   "source": [
    "En ese caso, un árbol de decisión nos diría distintas reglas, como por ejemplo, que si el peso de la persona es superior a 100kg, lo más probable es que esa persona sea obesa. Sin embargo, ese corte no será preciso: habrá personas que pesen 100kg que no sean obesas. Así pues, el árbol de decisión sigue creando más ramas que generan nuevas condiciones para ir “afinando” nuestras predicciones."
   ]
  },
  {
   "cell_type": "markdown",
   "metadata": {
    "id": "NDtFJoOIkJ3j"
   },
   "source": [
    "### Indice de Gini y la Entropía\n",
    "\n",
    "Como en todos los algoritmos, la función de coste es la base del algoritmo. En el caso de los árboles de decisión, existen dos principales funciones de coste: el índice de Gini y la entropía."
   ]
  },
  {
   "cell_type": "code",
   "execution_count": 8,
   "metadata": {
    "colab": {
     "base_uri": "https://localhost:8080/"
    },
    "id": "bbysEotUkUKm",
    "outputId": "826496c1-9b03-4e71-ebfb-a457f6d71f14"
   },
   "outputs": [
    {
     "data": {
      "text/plain": [
       "0.4998"
      ]
     },
     "execution_count": 8,
     "metadata": {},
     "output_type": "execute_result"
    }
   ],
   "source": [
    "# Calculo del indice de Gini\n",
    "\n",
    "def gini_impurity(y):\n",
    "  \n",
    "    if isinstance(y, pd.Series):\n",
    "        p = y.value_counts()/y.shape[0]\n",
    "        gini = 1-np.sum(p**2)\n",
    "        return(gini)\n",
    "    else:\n",
    "        raise('Object must be a Pandas Series.')\n",
    "\n",
    "gini_impurity(person_df.Gender)"
   ]
  },
  {
   "cell_type": "markdown",
   "metadata": {
    "id": "nCBWbK0SlO3R"
   },
   "source": [
    "El rango del indice de Gini va de 0 a 1.\n",
    "\n",
    "Como vemos, el índice de Gini para la variable Género es muy cercano al 0,5. Esto indica que la variable Género es muy impura, es decir, que los resultados del corte no son buenos."
   ]
  },
  {
   "cell_type": "code",
   "execution_count": 9,
   "metadata": {
    "colab": {
     "base_uri": "https://localhost:8080/"
    },
    "id": "dincOhljlUZY",
    "outputId": "87df7a9d-504a-43e8-c9cf-4c2d05b6467f"
   },
   "outputs": [
    {
     "data": {
      "text/plain": [
       "0.9997114388674198"
      ]
     },
     "execution_count": 9,
     "metadata": {},
     "output_type": "execute_result"
    }
   ],
   "source": [
    "def entropy(y):\n",
    "  \n",
    "  if isinstance(y, pd.Series):\n",
    "    a = y.value_counts()/y.shape[0]\n",
    "    entropy = np.sum(-a*np.log2(a+1e-9))\n",
    "    return(entropy)\n",
    "\n",
    "  else:\n",
    "    raise('Object must be a Pandas Series.')\n",
    "\n",
    "entropy(person_df.Gender)"
   ]
  },
  {
   "cell_type": "markdown",
   "metadata": {
    "id": "Xg55Dlj8mVHa"
   },
   "source": [
    "El rango de la entropia va de 0 a 1. Los valores cercanos a cero son menos impuros que aquellos que se acercan al 1.\n",
    "\n",
    "Como vemos, nos da un valor muy cercano al 1, lo cual denota una impureza similar a lo que indice la impureza de Gini."
   ]
  },
  {
   "cell_type": "markdown",
   "metadata": {
    "id": "TIiTlucPnccP"
   },
   "source": [
    "### Cómo elegir los cortes para nuestro árbol de decisión"
   ]
  },
  {
   "cell_type": "markdown",
   "metadata": {
    "id": "hDzD8_6Zn4FU"
   },
   "source": [
    "Como hemos visto, los cortes se comparan mediante la impureza. Por tanto, nos interesa comparar aquellos cortes que menor impureza generan. Para ello, se utiliza el Information Gain. Esta métrica indica la mejora al hacer diferentes particiones y se suele utilizar con la entropía.\n",
    "\n",
    "El cálculo del Information Gain dependerá de si se trata de un árbol de decisión de clasificación o de regresión. "
   ]
  },
  {
   "cell_type": "code",
   "execution_count": 10,
   "metadata": {
    "id": "F6Aw4FcRn5tP"
   },
   "outputs": [],
   "source": [
    "def variance(y):\n",
    "  \n",
    "  if(len(y) == 1):\n",
    "    return 0\n",
    "  else:\n",
    "    return y.var()\n",
    "\n",
    "def information_gain(y, mask, func=entropy):\n",
    "  # Mask: split choice\n",
    "  # func: function to be used to calculate Information Gain in case os classification.\n",
    "    a = sum(mask)\n",
    "    b = mask.shape[0] - a\n",
    "  \n",
    "    if(a == 0 or b ==0): \n",
    "        ig = 0\n",
    "  \n",
    "    else:\n",
    "        if y.dtypes != 'O':\n",
    "            ig = variance(y) - (a/(a+b)* variance(y[mask])) - (b/(a+b)*variance(y[-mask]))\n",
    "        else:\n",
    "            ig = func(y)-a/(a+b)*func(y[mask])-b/(a+b)*func(y[-mask])\n",
    "    \n",
    "    return ig"
   ]
  },
  {
   "cell_type": "code",
   "execution_count": 11,
   "metadata": {
    "colab": {
     "base_uri": "https://localhost:8080/"
    },
    "id": "H4cCmMq-ofBp",
    "outputId": "92e69310-a193-4d61-fbd0-0fd1d09af7d2"
   },
   "outputs": [
    {
     "data": {
      "text/plain": [
       "0.0005506911187600494"
      ]
     },
     "execution_count": 11,
     "metadata": {},
     "output_type": "execute_result"
    }
   ],
   "source": [
    "information_gain(person_df['obese'], person_df['Gender'] == 'Male')"
   ]
  },
  {
   "cell_type": "markdown",
   "metadata": {
    "id": "tmtEmF8WpCSN"
   },
   "source": [
    "¿Cómo elegimos cuál es el mejor split en las variables numéricas?"
   ]
  },
  {
   "cell_type": "markdown",
   "metadata": {
    "id": "XSfDw40dpH44"
   },
   "source": [
    "### Cómo calcular el mejor split para una variable"
   ]
  },
  {
   "cell_type": "markdown",
   "metadata": {
    "id": "4O8GSTHlpYo_"
   },
   "source": [
    "Para calcular el mejor split de una variable numérica, lo primero se deben obtener todos posibles valores que está tomando la variable. Una vez tenemos las opciones, para cada opción calcularemos el Information Gain usando como filtro si el valor es inferior a ese valor.\n",
    "\n",
    "En caso de que contemos con variables categóricas, la idea es la misma, solo que en este caso deberemos calcular el Information Gain para todas las combinaciones posibles de esa variable, excluyendo la opción que incluye a todas las opciones.\n",
    "\n",
    "Así pues, una vez tengamos todos los splits, nos quedaremos con aquel split que genere un mayor Information Gain."
   ]
  },
  {
   "cell_type": "code",
   "execution_count": 12,
   "metadata": {
    "colab": {
     "base_uri": "https://localhost:8080/"
    },
    "id": "HhMwPxK_o3Xa",
    "outputId": "8c1aa471-15f2-4b00-c966-da8f63340d0f"
   },
   "outputs": [
    {
     "name": "stdout",
     "output_type": "stream",
     "text": [
      "El mejor split para Weight es cuando la variable es inferior a  160 \n",
      "El Information Gain para ese corte es: 0.007353814315463637\n"
     ]
    }
   ],
   "source": [
    "import itertools\n",
    "\n",
    "def categorical_options(a):\n",
    "    \n",
    "    a = a.unique()\n",
    "    opciones = []\n",
    "  \n",
    "    for L in range(0, len(a)+1):\n",
    "        for subset in itertools.combinations(a, L):\n",
    "            subset = list(subset)\n",
    "            opciones.append(subset)\n",
    "\n",
    "    return opciones[1:-1]\n",
    "\n",
    "def max_information_gain_split(x, y, func=entropy):\n",
    "\n",
    "    split_value = []\n",
    "    ig = [] \n",
    "\n",
    "    numeric_variable = True if x.dtypes != 'O' else False\n",
    "\n",
    "    # Create options according to variable type\n",
    "    if numeric_variable:\n",
    "        options = x.sort_values().unique()[1:]\n",
    "    else: \n",
    "        options = categorical_options(x)\n",
    "\n",
    "    # Calculate ig for all values\n",
    "    for val in options:\n",
    "        mask =   x < val if numeric_variable else x.isin(val)\n",
    "        val_ig = information_gain(y, mask, func)\n",
    "    \n",
    "    # Append results\n",
    "    ig.append(val_ig)\n",
    "    split_value.append(val)\n",
    "\n",
    "    # Check if there are more than 1 results if not, return False\n",
    "    if len(ig) == 0:\n",
    "        return(None,None,None, False)\n",
    "    else:\n",
    "        # Get results with highest IG\n",
    "        best_ig = max(ig)\n",
    "        best_ig_index = ig.index(best_ig)\n",
    "        best_split = split_value[best_ig_index]\n",
    "        return(best_ig,best_split,numeric_variable, True)\n",
    "\n",
    "weight_ig, weight_slpit, _, _ = max_information_gain_split(person_df['Weight'], person_df['obese'],)  \n",
    "\n",
    "\n",
    "print(\n",
    "  \"El mejor split para Weight es cuando la variable es inferior a \",\n",
    "  weight_slpit,\"\\nEl Information Gain para ese corte es:\", weight_ig\n",
    ")"
   ]
  },
  {
   "cell_type": "markdown",
   "metadata": {
    "id": "uItKtLv7qMEL"
   },
   "source": [
    "### Cómo elegir el mejor split"
   ]
  },
  {
   "cell_type": "markdown",
   "metadata": {
    "id": "vn7t6Q6KqOCK"
   },
   "source": [
    "Como he comentado previamente, el mejor split será aquel que genere un Information Gain más alto. Para conocerlo, simplemente tendremos que calcular el Information Gain para cada una de las variables predictoras del modelo."
   ]
  },
  {
   "cell_type": "code",
   "execution_count": 13,
   "metadata": {
    "colab": {
     "base_uri": "https://localhost:8080/",
     "height": 173
    },
    "id": "CxLw28i7qVJl",
    "outputId": "499cce7b-ab46-431d-cb5c-64941652f1eb"
   },
   "outputs": [
    {
     "data": {
      "text/html": [
       "<div>\n",
       "<style scoped>\n",
       "    .dataframe tbody tr th:only-of-type {\n",
       "        vertical-align: middle;\n",
       "    }\n",
       "\n",
       "    .dataframe tbody tr th {\n",
       "        vertical-align: top;\n",
       "    }\n",
       "\n",
       "    .dataframe thead th {\n",
       "        text-align: right;\n",
       "    }\n",
       "</style>\n",
       "<table border=\"1\" class=\"dataframe\">\n",
       "  <thead>\n",
       "    <tr style=\"text-align: right;\">\n",
       "      <th></th>\n",
       "      <th>Gender</th>\n",
       "      <th>Height</th>\n",
       "      <th>Weight</th>\n",
       "    </tr>\n",
       "  </thead>\n",
       "  <tbody>\n",
       "    <tr>\n",
       "      <th>0</th>\n",
       "      <td>0.000551</td>\n",
       "      <td>0.001877</td>\n",
       "      <td>0.007354</td>\n",
       "    </tr>\n",
       "    <tr>\n",
       "      <th>1</th>\n",
       "      <td>[Female]</td>\n",
       "      <td>199</td>\n",
       "      <td>160</td>\n",
       "    </tr>\n",
       "    <tr>\n",
       "      <th>2</th>\n",
       "      <td>False</td>\n",
       "      <td>True</td>\n",
       "      <td>True</td>\n",
       "    </tr>\n",
       "    <tr>\n",
       "      <th>3</th>\n",
       "      <td>True</td>\n",
       "      <td>True</td>\n",
       "      <td>True</td>\n",
       "    </tr>\n",
       "  </tbody>\n",
       "</table>\n",
       "</div>"
      ],
      "text/plain": [
       "     Gender    Height    Weight\n",
       "0  0.000551  0.001877  0.007354\n",
       "1  [Female]       199       160\n",
       "2     False      True      True\n",
       "3      True      True      True"
      ]
     },
     "execution_count": 13,
     "metadata": {},
     "output_type": "execute_result"
    }
   ],
   "source": [
    "person_df.drop('obese', axis= 1).apply(max_information_gain_split, y = person_df['obese'])"
   ]
  },
  {
   "cell_type": "markdown",
   "metadata": {
    "id": "wrvvF_3iqkrM"
   },
   "source": [
    "Como vemos, la variable con mayor Information Gain es Weight. Por tanto, será la variable que utilicemos primero para hacer el split. Además, tenemos también el valor sobre el cual se debe realizar el split: 103."
   ]
  }
 ],
 "metadata": {
  "colab": {
   "collapsed_sections": [],
   "name": "ArbolesDeDecision.ipynb",
   "provenance": [],
   "toc_visible": true
  },
  "kernelspec": {
   "display_name": "Python 3",
   "language": "python",
   "name": "python3"
  },
  "language_info": {
   "codemirror_mode": {
    "name": "ipython",
    "version": 3
   },
   "file_extension": ".py",
   "mimetype": "text/x-python",
   "name": "python",
   "nbconvert_exporter": "python",
   "pygments_lexer": "ipython3",
   "version": "3.8.8"
  }
 },
 "nbformat": 4,
 "nbformat_minor": 1
}
