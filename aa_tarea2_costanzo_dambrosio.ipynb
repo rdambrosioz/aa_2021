{
  "nbformat": 4,
  "nbformat_minor": 0,
  "metadata": {
    "colab": {
      "name": "aa_tarea2_costanzo_dambrosio.ipynb",
      "provenance": [],
      "authorship_tag": "ABX9TyNP0ScGMcwN0GrBrnKU1kp6",
      "include_colab_link": true
    },
    "kernelspec": {
      "name": "python3",
      "display_name": "Python 3"
    },
    "language_info": {
      "name": "python"
    }
  },
  "cells": [
    {
      "cell_type": "markdown",
      "metadata": {
        "id": "view-in-github",
        "colab_type": "text"
      },
      "source": [
        "<a href=\"https://colab.research.google.com/github/rdambrosioz/aa_2021/blob/main/aa_tarea2_costanzo_dambrosio.ipynb\" target=\"_parent\"><img src=\"https://colab.research.google.com/assets/colab-badge.svg\" alt=\"Open In Colab\"/></a>"
      ]
    },
    {
      "cell_type": "markdown",
      "metadata": {
        "id": "jfjjwgANxcoU"
      },
      "source": [
        "# **TAREA 1 DE APRENDIZAJE AUTOMÁTICO**\n",
        "## Universidad de Montevideo\n",
        "## Ing. en Infórmatica - Sem 2, 2021\n",
        "### Docente: Sebastián Garcia\n",
        "\n",
        "\n",
        "## Grupo 2:\n",
        "* Bruno Costanzo\n",
        "* Renzo D'Ambrosio"
      ]
    }
  ]
}