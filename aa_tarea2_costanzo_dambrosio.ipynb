{
  "nbformat": 4,
  "nbformat_minor": 0,
  "metadata": {
    "colab": {
      "name": "aa_tarea2_costanzo_dambrosio.ipynb",
      "provenance": [],
      "authorship_tag": "ABX9TyNm/kJiGWCXQ+ynOO067PNW",
      "include_colab_link": true
    },
    "kernelspec": {
      "name": "python3",
      "display_name": "Python 3"
    },
    "language_info": {
      "name": "python"
    }
  },
  "cells": [
    {
      "cell_type": "markdown",
      "metadata": {
        "id": "view-in-github",
        "colab_type": "text"
      },
      "source": [
        "<a href=\"https://colab.research.google.com/github/rdambrosioz/aa_2021/blob/main/aa_tarea2_costanzo_dambrosio.ipynb\" target=\"_parent\"><img src=\"https://colab.research.google.com/assets/colab-badge.svg\" alt=\"Open In Colab\"/></a>"
      ]
    },
    {
      "cell_type": "markdown",
      "metadata": {
        "id": "jfjjwgANxcoU"
      },
      "source": [
        "# **TAREA 2 DE APRENDIZAJE AUTOMÁTICO**\n",
        "## Universidad de Montevideo\n",
        "## Ing. en Infórmatica - Sem 2, 2021\n",
        "### Docente: Sebastián Garcia\n",
        "\n",
        "\n",
        "## Grupo 2:\n",
        "* Bruno Costanzo\n",
        "* Renzo D'Ambrosio"
      ]
    },
    {
      "cell_type": "markdown",
      "metadata": {
        "id": "aAbmYdxOx1AV"
      },
      "source": [
        "#PARTE 1\n",
        "\n",
        "Efectúe un profundo EDA de los datasets entregados por el área de Operaciones Crediticias. Documente todas las observaciones que haga de los datos."
      ]
    },
    {
      "cell_type": "code",
      "metadata": {
        "id": "RvIz_UIeylHj"
      },
      "source": [
        ""
      ],
      "execution_count": null,
      "outputs": []
    },
    {
      "cell_type": "code",
      "metadata": {
        "id": "Ix8l-zEqyk-z"
      },
      "source": [
        ""
      ],
      "execution_count": null,
      "outputs": []
    },
    {
      "cell_type": "code",
      "metadata": {
        "id": "_0XeTivlyk2S"
      },
      "source": [
        ""
      ],
      "execution_count": null,
      "outputs": []
    },
    {
      "cell_type": "markdown",
      "metadata": {
        "id": "AHVdR1D4ylpz"
      },
      "source": [
        "# PARTE 2\n",
        "\n",
        "Haga la limpieza necesaria de los datasets, considerando datos nulos y outliers. Justifique cada una de las decisiones tomadas."
      ]
    },
    {
      "cell_type": "code",
      "metadata": {
        "id": "Vkgwvk70ytof"
      },
      "source": [
        ""
      ],
      "execution_count": null,
      "outputs": []
    },
    {
      "cell_type": "code",
      "metadata": {
        "id": "zDOhfGB4yuDZ"
      },
      "source": [
        ""
      ],
      "execution_count": null,
      "outputs": []
    },
    {
      "cell_type": "code",
      "metadata": {
        "id": "guzSZ9-2yx9L"
      },
      "source": [
        ""
      ],
      "execution_count": null,
      "outputs": []
    },
    {
      "cell_type": "markdown",
      "metadata": {
        "id": "EvJQbjWHyuk2"
      },
      "source": [
        "# PARTE 3\n",
        "\n",
        "Utilizando el algoritmo k-means efectúe una clusterización del dataset entregado. Detecte aquellos clusters relevantes para el problema, describiéndolos en términos de negocio. Debe de graficar el resultado de la clusterización, se recomienda el uso de PCA para bajar la dimensionalidad de los datos.\n",
        "\n",
        "Utilice las técnicas que considere necesarias para determinar la cantidad óptima de clusters, justificando claramente las decisiones tomadas."
      ]
    },
    {
      "cell_type": "code",
      "metadata": {
        "id": "jz4aoxAZy5sr"
      },
      "source": [
        ""
      ],
      "execution_count": null,
      "outputs": []
    },
    {
      "cell_type": "code",
      "metadata": {
        "id": "C7_-5aKqy5_L"
      },
      "source": [
        ""
      ],
      "execution_count": null,
      "outputs": []
    },
    {
      "cell_type": "code",
      "metadata": {
        "id": "u80v4x3gy6WL"
      },
      "source": [
        ""
      ],
      "execution_count": null,
      "outputs": []
    },
    {
      "cell_type": "markdown",
      "metadata": {
        "id": "Cz2DlCg2y6uQ"
      },
      "source": [
        "# PARTE 4\n",
        "\n",
        "En sus propias palabras, describa las técnicas de clustering basadas en densidad, en particular el algoritmo DBSCAN. Aplique DBSCAN al dataset y compare los resultados con los obtenidos en la parte 3."
      ]
    },
    {
      "cell_type": "code",
      "metadata": {
        "id": "KX1RYLoEy-UV"
      },
      "source": [
        ""
      ],
      "execution_count": null,
      "outputs": []
    },
    {
      "cell_type": "code",
      "metadata": {
        "id": "8NEkiRS3y-kY"
      },
      "source": [
        ""
      ],
      "execution_count": null,
      "outputs": []
    },
    {
      "cell_type": "code",
      "metadata": {
        "id": "Yk9KtWuAy-1X"
      },
      "source": [
        ""
      ],
      "execution_count": null,
      "outputs": []
    },
    {
      "cell_type": "markdown",
      "metadata": {
        "id": "HI_eNdtSy_Lq"
      },
      "source": [
        "# PARTE 5\n",
        "\n",
        "Estudie y explique el método de Ward utilizado en clustering aglomerativo, en particular, la implementación de sklearn."
      ]
    },
    {
      "cell_type": "code",
      "metadata": {
        "id": "yAXtAgxEzE3l"
      },
      "source": [
        ""
      ],
      "execution_count": null,
      "outputs": []
    },
    {
      "cell_type": "code",
      "metadata": {
        "id": "2S8_LjcQzFIg"
      },
      "source": [
        ""
      ],
      "execution_count": null,
      "outputs": []
    },
    {
      "cell_type": "code",
      "metadata": {
        "id": "Z_jcr94PzFWt"
      },
      "source": [
        ""
      ],
      "execution_count": null,
      "outputs": []
    },
    {
      "cell_type": "markdown",
      "metadata": {
        "id": "WFxDQrCozFrj"
      },
      "source": [
        "# PARTE 6\n",
        "\n",
        "Planificando próximas etapas, el banco requiere armar un cuestionario para nuevos clientes, de forma de poder ofrecer el producto a usuarios de los cuales no cuenta con histórico transaccional. Para esto, el Departamento Comercial solicita que se construya, a partir del análisis de datos, el listado de preguntas y un modelo predictivo que en función de las respuestas retorne la propensión de compra de los productos.\n",
        "En caso de que entienda que no es posible cumplir con alguno de estos requerimientos, documente los motivos que lo llevaron a tomar esa conclusión."
      ]
    },
    {
      "cell_type": "code",
      "metadata": {
        "id": "oH9uVY4zzJcw"
      },
      "source": [
        ""
      ],
      "execution_count": null,
      "outputs": []
    },
    {
      "cell_type": "code",
      "metadata": {
        "id": "V-lElDJrzJr4"
      },
      "source": [
        ""
      ],
      "execution_count": null,
      "outputs": []
    },
    {
      "cell_type": "code",
      "metadata": {
        "id": "Z-LaKmAjzJ-6"
      },
      "source": [
        ""
      ],
      "execution_count": null,
      "outputs": []
    },
    {
      "cell_type": "markdown",
      "metadata": {
        "id": "IjOy9iC2zKTS"
      },
      "source": [
        "# PARTE 7\n",
        "\n",
        "Ensaye una discusión general del trabajo realizado, haciendo los comentarios y recomendaciones que considere necesarias."
      ]
    }
  ]
}