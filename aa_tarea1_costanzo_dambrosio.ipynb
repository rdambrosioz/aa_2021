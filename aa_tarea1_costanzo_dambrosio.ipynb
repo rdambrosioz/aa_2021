{
  "nbformat": 4,
  "nbformat_minor": 0,
  "metadata": {
    "colab": {
      "name": "aa_tarea1_costanzo_dambrosio.ipynb",
      "provenance": [],
      "collapsed_sections": [],
      "include_colab_link": true
    },
    "kernelspec": {
      "name": "python3",
      "display_name": "Python 3"
    },
    "language_info": {
      "name": "python"
    }
  },
  "cells": [
    {
      "cell_type": "markdown",
      "metadata": {
        "id": "view-in-github",
        "colab_type": "text"
      },
      "source": [
        "<a href=\"https://colab.research.google.com/github/rdambrosioz/aa_2021/blob/main/aa_tarea1_costanzo_dambrosio.ipynb\" target=\"_parent\"><img src=\"https://colab.research.google.com/assets/colab-badge.svg\" alt=\"Open In Colab\"/></a>"
      ]
    },
    {
      "cell_type": "markdown",
      "metadata": {
        "id": "z4ST0K5EaFZD"
      },
      "source": [
        "#Parte 1\n",
        "Efectúe un profundo análisis exploratorio del dataset, incluyendo un estudio de \n",
        "correlación entre las variables del mismo. Explique detalladamente los métodos \n",
        "utilizados. Para obtener una representación gráfica de la correlación entre variables, se \n",
        "recomienda utilizar el método heatmap del paquete Seaborn [3]. Discuta \n",
        "detalladamente los resultados obtenidos.\n"
      ]
    },
    {
      "cell_type": "code",
      "metadata": {
        "id": "08fLgAVWaNU-"
      },
      "source": [
        "# Importamos paquetes necesarios\n",
        "import sklearn as s\n",
        "import numpy as np\n",
        "import seaborn as sns\n",
        "import pandas as pd\n",
        "import matplotlib.pyplot as plt\n",
        "from sklearn import datasets"
      ],
      "execution_count": null,
      "outputs": []
    },
    {
      "cell_type": "code",
      "metadata": {
        "id": "ClBTq4aHaWHH"
      },
      "source": [
        "# wine_df = pd.read_csv('winequality-red.csv')\n",
        "wine_df = pd.read_csv('https://raw.githubusercontent.com/rdambrosioz/aa_2021/main/winequality-red.csv')"
      ],
      "execution_count": null,
      "outputs": []
    },
    {
      "cell_type": "code",
      "metadata": {
        "colab": {
          "base_uri": "https://localhost:8080/",
          "height": 422
        },
        "id": "0DFRvnCFcj7d",
        "outputId": "317bb696-bb50-4a9a-bdf6-ff9081d925d3"
      },
      "source": [
        "features = wine_df.columns[0:-1]\n",
        "wine_df"
      ],
      "execution_count": null,
      "outputs": [
        {
          "output_type": "execute_result",
          "data": {
            "text/html": [
              "<div>\n",
              "<style scoped>\n",
              "    .dataframe tbody tr th:only-of-type {\n",
              "        vertical-align: middle;\n",
              "    }\n",
              "\n",
              "    .dataframe tbody tr th {\n",
              "        vertical-align: top;\n",
              "    }\n",
              "\n",
              "    .dataframe thead th {\n",
              "        text-align: right;\n",
              "    }\n",
              "</style>\n",
              "<table border=\"1\" class=\"dataframe\">\n",
              "  <thead>\n",
              "    <tr style=\"text-align: right;\">\n",
              "      <th></th>\n",
              "      <th>fixed acidity</th>\n",
              "      <th>volatile acidity</th>\n",
              "      <th>citric acid</th>\n",
              "      <th>residual sugar</th>\n",
              "      <th>chlorides</th>\n",
              "      <th>free sulfur dioxide</th>\n",
              "      <th>total sulfur dioxide</th>\n",
              "      <th>density</th>\n",
              "      <th>pH</th>\n",
              "      <th>sulphates</th>\n",
              "      <th>alcohol</th>\n",
              "      <th>quality</th>\n",
              "    </tr>\n",
              "  </thead>\n",
              "  <tbody>\n",
              "    <tr>\n",
              "      <th>0</th>\n",
              "      <td>7.4</td>\n",
              "      <td>0.700</td>\n",
              "      <td>0.00</td>\n",
              "      <td>1.9</td>\n",
              "      <td>0.076</td>\n",
              "      <td>11.0</td>\n",
              "      <td>34.0</td>\n",
              "      <td>0.99780</td>\n",
              "      <td>3.51</td>\n",
              "      <td>0.56</td>\n",
              "      <td>9.4</td>\n",
              "      <td>5</td>\n",
              "    </tr>\n",
              "    <tr>\n",
              "      <th>1</th>\n",
              "      <td>7.8</td>\n",
              "      <td>0.880</td>\n",
              "      <td>0.00</td>\n",
              "      <td>2.6</td>\n",
              "      <td>0.098</td>\n",
              "      <td>25.0</td>\n",
              "      <td>67.0</td>\n",
              "      <td>0.99680</td>\n",
              "      <td>3.20</td>\n",
              "      <td>0.68</td>\n",
              "      <td>9.8</td>\n",
              "      <td>5</td>\n",
              "    </tr>\n",
              "    <tr>\n",
              "      <th>2</th>\n",
              "      <td>7.8</td>\n",
              "      <td>0.760</td>\n",
              "      <td>0.04</td>\n",
              "      <td>2.3</td>\n",
              "      <td>0.092</td>\n",
              "      <td>15.0</td>\n",
              "      <td>54.0</td>\n",
              "      <td>0.99700</td>\n",
              "      <td>3.26</td>\n",
              "      <td>0.65</td>\n",
              "      <td>9.8</td>\n",
              "      <td>5</td>\n",
              "    </tr>\n",
              "    <tr>\n",
              "      <th>3</th>\n",
              "      <td>11.2</td>\n",
              "      <td>0.280</td>\n",
              "      <td>0.56</td>\n",
              "      <td>1.9</td>\n",
              "      <td>0.075</td>\n",
              "      <td>17.0</td>\n",
              "      <td>60.0</td>\n",
              "      <td>0.99800</td>\n",
              "      <td>3.16</td>\n",
              "      <td>0.58</td>\n",
              "      <td>9.8</td>\n",
              "      <td>6</td>\n",
              "    </tr>\n",
              "    <tr>\n",
              "      <th>4</th>\n",
              "      <td>7.4</td>\n",
              "      <td>0.700</td>\n",
              "      <td>0.00</td>\n",
              "      <td>1.9</td>\n",
              "      <td>0.076</td>\n",
              "      <td>11.0</td>\n",
              "      <td>34.0</td>\n",
              "      <td>0.99780</td>\n",
              "      <td>3.51</td>\n",
              "      <td>0.56</td>\n",
              "      <td>9.4</td>\n",
              "      <td>5</td>\n",
              "    </tr>\n",
              "    <tr>\n",
              "      <th>...</th>\n",
              "      <td>...</td>\n",
              "      <td>...</td>\n",
              "      <td>...</td>\n",
              "      <td>...</td>\n",
              "      <td>...</td>\n",
              "      <td>...</td>\n",
              "      <td>...</td>\n",
              "      <td>...</td>\n",
              "      <td>...</td>\n",
              "      <td>...</td>\n",
              "      <td>...</td>\n",
              "      <td>...</td>\n",
              "    </tr>\n",
              "    <tr>\n",
              "      <th>1594</th>\n",
              "      <td>6.2</td>\n",
              "      <td>0.600</td>\n",
              "      <td>0.08</td>\n",
              "      <td>2.0</td>\n",
              "      <td>0.090</td>\n",
              "      <td>32.0</td>\n",
              "      <td>44.0</td>\n",
              "      <td>0.99490</td>\n",
              "      <td>3.45</td>\n",
              "      <td>0.58</td>\n",
              "      <td>10.5</td>\n",
              "      <td>5</td>\n",
              "    </tr>\n",
              "    <tr>\n",
              "      <th>1595</th>\n",
              "      <td>5.9</td>\n",
              "      <td>0.550</td>\n",
              "      <td>0.10</td>\n",
              "      <td>2.2</td>\n",
              "      <td>0.062</td>\n",
              "      <td>39.0</td>\n",
              "      <td>51.0</td>\n",
              "      <td>0.99512</td>\n",
              "      <td>3.52</td>\n",
              "      <td>0.76</td>\n",
              "      <td>11.2</td>\n",
              "      <td>6</td>\n",
              "    </tr>\n",
              "    <tr>\n",
              "      <th>1596</th>\n",
              "      <td>6.3</td>\n",
              "      <td>0.510</td>\n",
              "      <td>0.13</td>\n",
              "      <td>2.3</td>\n",
              "      <td>0.076</td>\n",
              "      <td>29.0</td>\n",
              "      <td>40.0</td>\n",
              "      <td>0.99574</td>\n",
              "      <td>3.42</td>\n",
              "      <td>0.75</td>\n",
              "      <td>11.0</td>\n",
              "      <td>6</td>\n",
              "    </tr>\n",
              "    <tr>\n",
              "      <th>1597</th>\n",
              "      <td>5.9</td>\n",
              "      <td>0.645</td>\n",
              "      <td>0.12</td>\n",
              "      <td>2.0</td>\n",
              "      <td>0.075</td>\n",
              "      <td>32.0</td>\n",
              "      <td>44.0</td>\n",
              "      <td>0.99547</td>\n",
              "      <td>3.57</td>\n",
              "      <td>0.71</td>\n",
              "      <td>10.2</td>\n",
              "      <td>5</td>\n",
              "    </tr>\n",
              "    <tr>\n",
              "      <th>1598</th>\n",
              "      <td>6.0</td>\n",
              "      <td>0.310</td>\n",
              "      <td>0.47</td>\n",
              "      <td>3.6</td>\n",
              "      <td>0.067</td>\n",
              "      <td>18.0</td>\n",
              "      <td>42.0</td>\n",
              "      <td>0.99549</td>\n",
              "      <td>3.39</td>\n",
              "      <td>0.66</td>\n",
              "      <td>11.0</td>\n",
              "      <td>6</td>\n",
              "    </tr>\n",
              "  </tbody>\n",
              "</table>\n",
              "<p>1599 rows × 12 columns</p>\n",
              "</div>"
            ],
            "text/plain": [
              "      fixed acidity  volatile acidity  citric acid  ...  sulphates  alcohol  quality\n",
              "0               7.4             0.700         0.00  ...       0.56      9.4        5\n",
              "1               7.8             0.880         0.00  ...       0.68      9.8        5\n",
              "2               7.8             0.760         0.04  ...       0.65      9.8        5\n",
              "3              11.2             0.280         0.56  ...       0.58      9.8        6\n",
              "4               7.4             0.700         0.00  ...       0.56      9.4        5\n",
              "...             ...               ...          ...  ...        ...      ...      ...\n",
              "1594            6.2             0.600         0.08  ...       0.58     10.5        5\n",
              "1595            5.9             0.550         0.10  ...       0.76     11.2        6\n",
              "1596            6.3             0.510         0.13  ...       0.75     11.0        6\n",
              "1597            5.9             0.645         0.12  ...       0.71     10.2        5\n",
              "1598            6.0             0.310         0.47  ...       0.66     11.0        6\n",
              "\n",
              "[1599 rows x 12 columns]"
            ]
          },
          "metadata": {},
          "execution_count": 3
        }
      ]
    },
    {
      "cell_type": "code",
      "metadata": {
        "colab": {
          "base_uri": "https://localhost:8080/",
          "height": 680
        },
        "id": "jYBLj9ffinJh",
        "outputId": "2547f427-f8d7-40a1-de2d-62b347b6eef0"
      },
      "source": [
        "wine_df.dtypes, wine_df['quality'].describe(),  wine_df['quality'].hist(), features"
      ],
      "execution_count": null,
      "outputs": [
        {
          "output_type": "execute_result",
          "data": {
            "text/plain": [
              "(fixed acidity           float64\n",
              " volatile acidity        float64\n",
              " citric acid             float64\n",
              " residual sugar          float64\n",
              " chlorides               float64\n",
              " free sulfur dioxide     float64\n",
              " total sulfur dioxide    float64\n",
              " density                 float64\n",
              " pH                      float64\n",
              " sulphates               float64\n",
              " alcohol                 float64\n",
              " quality                   int64\n",
              " dtype: object, count    1599.000000\n",
              " mean        5.636023\n",
              " std         0.807569\n",
              " min         3.000000\n",
              " 25%         5.000000\n",
              " 50%         6.000000\n",
              " 75%         6.000000\n",
              " max         8.000000\n",
              " Name: quality, dtype: float64, <matplotlib.axes._subplots.AxesSubplot at 0x7ff59dd74450>, Index(['fixed acidity', 'volatile acidity', 'citric acid', 'residual sugar',\n",
              "        'chlorides', 'free sulfur dioxide', 'total sulfur dioxide', 'density',\n",
              "        'pH', 'sulphates', 'alcohol'],\n",
              "       dtype='object'))"
            ]
          },
          "metadata": {},
          "execution_count": 4
        },
        {
          "output_type": "display_data",
          "data": {
            "image/png": "[encoded data removed]",
            "text/plain": [
              "<Figure size 432x288 with 1 Axes>"
            ]
          },
          "metadata": {
            "needs_background": "light"
          }
        }
      ]
    },
    {
      "cell_type": "markdown",
      "metadata": {
        "id": "VBSFU_Kbsw8E"
      },
      "source": [
        "Se estudia la distribucion de la variable 'quality'. Podemos ver que es discreta, en paricular ordinal.  \n",
        "\n",
        "\n"
      ]
    },
    {
      "cell_type": "code",
      "metadata": {
        "colab": {
          "base_uri": "https://localhost:8080/",
          "height": 314
        },
        "id": "Q9MfrEmLdVoY",
        "outputId": "5974f10b-f768-4c80-b503-541418911f3c"
      },
      "source": [
        "plt.figure(figsize=(20,20))\n",
        "wine_df.hist()\n",
        "plt.tight_layout()\n",
        "plt.show()"
      ],
      "execution_count": null,
      "outputs": [
        {
          "output_type": "display_data",
          "data": {
            "text/plain": [
              "<Figure size 1440x1440 with 0 Axes>"
            ]
          },
          "metadata": {}
        },
        {
          "output_type": "display_data",
          "data": {
            "image/png": "[encoded data removed]",
            "text/plain": [
              "<Figure size 432x288 with 12 Axes>"
            ]
          },
          "metadata": {
            "needs_background": "light"
          }
        }
      ]
    },
    {
      "cell_type": "markdown",
      "metadata": {
        "id": "YtXqmp96p6nI"
      },
      "source": [
        "La idea es ver las distintas distribuciones de los features. En particular, la mayoria de ellos pareciera tener distribucion normal. No obstante, 'free sulfure dioxide', 'total sulfure dioxide', 'residual sugar', 'alcohol' y 'citric acid' parecieran tener distribuciones exponenciales."
      ]
    },
    {
      "cell_type": "code",
      "metadata": {
        "colab": {
          "base_uri": "https://localhost:8080/",
          "height": 424
        },
        "id": "jl321Q0LdgcQ",
        "outputId": "925a27ab-e1f8-482f-8273-3ee0b9c93b9c"
      },
      "source": [
        "correlations = wine_df.corr(method='pearson')\n",
        "correlations\n",
        "# ('alcohol', 0.47616632400114156),  --> density\n",
        "# ('volatile acidity', -0.3905577802640094),  --> citric acid\n",
        "# ('sulphates', 0.25139707906926206),\n",
        "# ('citric acid', 0.2263725143180432),\n",
        "# ('total sulfur dioxide', -0.18510028892653843),\n",
        "# ('density', -0.1749192277833492),\n",
        "# Mucha correlacion > 0.5"
      ],
      "execution_count": null,
      "outputs": [
        {
          "output_type": "execute_result",
          "data": {
            "text/html": [
              "<div>\n",
              "<style scoped>\n",
              "    .dataframe tbody tr th:only-of-type {\n",
              "        vertical-align: middle;\n",
              "    }\n",
              "\n",
              "    .dataframe tbody tr th {\n",
              "        vertical-align: top;\n",
              "    }\n",
              "\n",
              "    .dataframe thead th {\n",
              "        text-align: right;\n",
              "    }\n",
              "</style>\n",
              "<table border=\"1\" class=\"dataframe\">\n",
              "  <thead>\n",
              "    <tr style=\"text-align: right;\">\n",
              "      <th></th>\n",
              "      <th>fixed acidity</th>\n",
              "      <th>volatile acidity</th>\n",
              "      <th>citric acid</th>\n",
              "      <th>residual sugar</th>\n",
              "      <th>chlorides</th>\n",
              "      <th>free sulfur dioxide</th>\n",
              "      <th>total sulfur dioxide</th>\n",
              "      <th>density</th>\n",
              "      <th>pH</th>\n",
              "      <th>sulphates</th>\n",
              "      <th>alcohol</th>\n",
              "      <th>quality</th>\n",
              "    </tr>\n",
              "  </thead>\n",
              "  <tbody>\n",
              "    <tr>\n",
              "      <th>fixed acidity</th>\n",
              "      <td>1.000000</td>\n",
              "      <td>-0.256131</td>\n",
              "      <td>0.671703</td>\n",
              "      <td>0.114777</td>\n",
              "      <td>0.093705</td>\n",
              "      <td>-0.153794</td>\n",
              "      <td>-0.113181</td>\n",
              "      <td>0.668047</td>\n",
              "      <td>-0.682978</td>\n",
              "      <td>0.183006</td>\n",
              "      <td>-0.061668</td>\n",
              "      <td>0.124052</td>\n",
              "    </tr>\n",
              "    <tr>\n",
              "      <th>volatile acidity</th>\n",
              "      <td>-0.256131</td>\n",
              "      <td>1.000000</td>\n",
              "      <td>-0.552496</td>\n",
              "      <td>0.001918</td>\n",
              "      <td>0.061298</td>\n",
              "      <td>-0.010504</td>\n",
              "      <td>0.076470</td>\n",
              "      <td>0.022026</td>\n",
              "      <td>0.234937</td>\n",
              "      <td>-0.260987</td>\n",
              "      <td>-0.202288</td>\n",
              "      <td>-0.390558</td>\n",
              "    </tr>\n",
              "    <tr>\n",
              "      <th>citric acid</th>\n",
              "      <td>0.671703</td>\n",
              "      <td>-0.552496</td>\n",
              "      <td>1.000000</td>\n",
              "      <td>0.143577</td>\n",
              "      <td>0.203823</td>\n",
              "      <td>-0.060978</td>\n",
              "      <td>0.035533</td>\n",
              "      <td>0.364947</td>\n",
              "      <td>-0.541904</td>\n",
              "      <td>0.312770</td>\n",
              "      <td>0.109903</td>\n",
              "      <td>0.226373</td>\n",
              "    </tr>\n",
              "    <tr>\n",
              "      <th>residual sugar</th>\n",
              "      <td>0.114777</td>\n",
              "      <td>0.001918</td>\n",
              "      <td>0.143577</td>\n",
              "      <td>1.000000</td>\n",
              "      <td>0.055610</td>\n",
              "      <td>0.187049</td>\n",
              "      <td>0.203028</td>\n",
              "      <td>0.355283</td>\n",
              "      <td>-0.085652</td>\n",
              "      <td>0.005527</td>\n",
              "      <td>0.042075</td>\n",
              "      <td>0.013732</td>\n",
              "    </tr>\n",
              "    <tr>\n",
              "      <th>chlorides</th>\n",
              "      <td>0.093705</td>\n",
              "      <td>0.061298</td>\n",
              "      <td>0.203823</td>\n",
              "      <td>0.055610</td>\n",
              "      <td>1.000000</td>\n",
              "      <td>0.005562</td>\n",
              "      <td>0.047400</td>\n",
              "      <td>0.200632</td>\n",
              "      <td>-0.265026</td>\n",
              "      <td>0.371260</td>\n",
              "      <td>-0.221141</td>\n",
              "      <td>-0.128907</td>\n",
              "    </tr>\n",
              "    <tr>\n",
              "      <th>free sulfur dioxide</th>\n",
              "      <td>-0.153794</td>\n",
              "      <td>-0.010504</td>\n",
              "      <td>-0.060978</td>\n",
              "      <td>0.187049</td>\n",
              "      <td>0.005562</td>\n",
              "      <td>1.000000</td>\n",
              "      <td>0.667666</td>\n",
              "      <td>-0.021946</td>\n",
              "      <td>0.070377</td>\n",
              "      <td>0.051658</td>\n",
              "      <td>-0.069408</td>\n",
              "      <td>-0.050656</td>\n",
              "    </tr>\n",
              "    <tr>\n",
              "      <th>total sulfur dioxide</th>\n",
              "      <td>-0.113181</td>\n",
              "      <td>0.076470</td>\n",
              "      <td>0.035533</td>\n",
              "      <td>0.203028</td>\n",
              "      <td>0.047400</td>\n",
              "      <td>0.667666</td>\n",
              "      <td>1.000000</td>\n",
              "      <td>0.071269</td>\n",
              "      <td>-0.066495</td>\n",
              "      <td>0.042947</td>\n",
              "      <td>-0.205654</td>\n",
              "      <td>-0.185100</td>\n",
              "    </tr>\n",
              "    <tr>\n",
              "      <th>density</th>\n",
              "      <td>0.668047</td>\n",
              "      <td>0.022026</td>\n",
              "      <td>0.364947</td>\n",
              "      <td>0.355283</td>\n",
              "      <td>0.200632</td>\n",
              "      <td>-0.021946</td>\n",
              "      <td>0.071269</td>\n",
              "      <td>1.000000</td>\n",
              "      <td>-0.341699</td>\n",
              "      <td>0.148506</td>\n",
              "      <td>-0.496180</td>\n",
              "      <td>-0.174919</td>\n",
              "    </tr>\n",
              "    <tr>\n",
              "      <th>pH</th>\n",
              "      <td>-0.682978</td>\n",
              "      <td>0.234937</td>\n",
              "      <td>-0.541904</td>\n",
              "      <td>-0.085652</td>\n",
              "      <td>-0.265026</td>\n",
              "      <td>0.070377</td>\n",
              "      <td>-0.066495</td>\n",
              "      <td>-0.341699</td>\n",
              "      <td>1.000000</td>\n",
              "      <td>-0.196648</td>\n",
              "      <td>0.205633</td>\n",
              "      <td>-0.057731</td>\n",
              "    </tr>\n",
              "    <tr>\n",
              "      <th>sulphates</th>\n",
              "      <td>0.183006</td>\n",
              "      <td>-0.260987</td>\n",
              "      <td>0.312770</td>\n",
              "      <td>0.005527</td>\n",
              "      <td>0.371260</td>\n",
              "      <td>0.051658</td>\n",
              "      <td>0.042947</td>\n",
              "      <td>0.148506</td>\n",
              "      <td>-0.196648</td>\n",
              "      <td>1.000000</td>\n",
              "      <td>0.093595</td>\n",
              "      <td>0.251397</td>\n",
              "    </tr>\n",
              "    <tr>\n",
              "      <th>alcohol</th>\n",
              "      <td>-0.061668</td>\n",
              "      <td>-0.202288</td>\n",
              "      <td>0.109903</td>\n",
              "      <td>0.042075</td>\n",
              "      <td>-0.221141</td>\n",
              "      <td>-0.069408</td>\n",
              "      <td>-0.205654</td>\n",
              "      <td>-0.496180</td>\n",
              "      <td>0.205633</td>\n",
              "      <td>0.093595</td>\n",
              "      <td>1.000000</td>\n",
              "      <td>0.476166</td>\n",
              "    </tr>\n",
              "    <tr>\n",
              "      <th>quality</th>\n",
              "      <td>0.124052</td>\n",
              "      <td>-0.390558</td>\n",
              "      <td>0.226373</td>\n",
              "      <td>0.013732</td>\n",
              "      <td>-0.128907</td>\n",
              "      <td>-0.050656</td>\n",
              "      <td>-0.185100</td>\n",
              "      <td>-0.174919</td>\n",
              "      <td>-0.057731</td>\n",
              "      <td>0.251397</td>\n",
              "      <td>0.476166</td>\n",
              "      <td>1.000000</td>\n",
              "    </tr>\n",
              "  </tbody>\n",
              "</table>\n",
              "</div>"
            ],
            "text/plain": [
              "                      fixed acidity  volatile acidity  ...   alcohol   quality\n",
              "fixed acidity              1.000000         -0.256131  ... -0.061668  0.124052\n",
              "volatile acidity          -0.256131          1.000000  ... -0.202288 -0.390558\n",
              "citric acid                0.671703         -0.552496  ...  0.109903  0.226373\n",
              "residual sugar             0.114777          0.001918  ...  0.042075  0.013732\n",
              "chlorides                  0.093705          0.061298  ... -0.221141 -0.128907\n",
              "free sulfur dioxide       -0.153794         -0.010504  ... -0.069408 -0.050656\n",
              "total sulfur dioxide      -0.113181          0.076470  ... -0.205654 -0.185100\n",
              "density                    0.668047          0.022026  ... -0.496180 -0.174919\n",
              "pH                        -0.682978          0.234937  ...  0.205633 -0.057731\n",
              "sulphates                  0.183006         -0.260987  ...  0.093595  0.251397\n",
              "alcohol                   -0.061668         -0.202288  ...  1.000000  0.476166\n",
              "quality                    0.124052         -0.390558  ...  0.476166  1.000000\n",
              "\n",
              "[12 rows x 12 columns]"
            ]
          },
          "metadata": {},
          "execution_count": 7
        }
      ]
    },
    {
      "cell_type": "markdown",
      "metadata": {
        "id": "4ssAxehxqaZP"
      },
      "source": [
        "Aqui se presenta la matriz de correlaciones de los distintos features. Luego se utilizaran los 6 mas correlacionados con la variable 'quality' para realizar un modelo de regresion lineal. Sin embargo, resulta interesante notar que hay dos de ellos (alcohol y volatile acidity) que pueden generar problemas por estar bastante correlacionados (correlacion > 0.5) con otros dos features (density y citric acid respectivamente)"
      ]
    },
    {
      "cell_type": "code",
      "metadata": {
        "colab": {
          "base_uri": "https://localhost:8080/",
          "height": 963
        },
        "id": "phB36YdsdzKg",
        "outputId": "628ec378-9973-4e21-e1eb-a616226b0e2a"
      },
      "source": [
        "plt.figure(figsize=(15,15))\n",
        "sns.heatmap(correlations, cbar=True, cmap='RdYlBu')\n",
        "plt.title('Correlation Matrix - Pearson')\n",
        "plt.show()"
      ],
      "execution_count": null,
      "outputs": [
        {
          "output_type": "display_data",
          "data": {
            "image/png": "[encoded data removed]",
            "text/plain": [
              "<Figure size 1080x1080 with 2 Axes>"
            ]
          },
          "metadata": {
            "needs_background": "light"
          }
        }
      ]
    },
    {
      "cell_type": "code",
      "metadata": {
        "colab": {
          "base_uri": "https://localhost:8080/",
          "height": 963
        },
        "id": "LmoBGCkFP24g",
        "outputId": "db1bf6cb-2649-4379-f249-dd1e36ae2647"
      },
      "source": [
        "plt.figure(figsize=(15,15))\n",
        "sns.heatmap(wine_df.corr(method='spearman'), cbar=True, cmap='RdYlBu')\n",
        "plt.title('Correlation Matrix - Spearman')\n",
        "plt.show()\n"
      ],
      "execution_count": null,
      "outputs": [
        {
          "output_type": "display_data",
          "data": {
            "image/png": "[encoded data removed]",
            "text/plain": [
              "<Figure size 1080x1080 with 2 Axes>"
            ]
          },
          "metadata": {
            "needs_background": "light"
          }
        }
      ]
    },
    {
      "cell_type": "markdown",
      "metadata": {
        "id": "tzsXs_UNrF7w"
      },
      "source": [
        "Aqui se presentan graficamente las matrices de correlacion de los feature. En particular se utilizan dos metricas de correlacion distintas (Pearson y Spearmann)"
      ]
    },
    {
      "cell_type": "code",
      "metadata": {
        "colab": {
          "base_uri": "https://localhost:8080/",
          "height": 1000
        },
        "id": "z7gQA89ZenJY",
        "outputId": "2dadbe49-2687-434b-aad4-e17b241760c3"
      },
      "source": [
        "features = wine_df.columns[0:-1]\n",
        "label = wine_df['quality']\n",
        "f, ax = plt.subplots(3,4, figsize=(20,20))\n",
        "i = 0\n",
        "for j in range(3):\n",
        "  for a in ax[j]:\n",
        "    if i < 11:\n",
        "      a.scatter(label, wine_df[features[i]])\n",
        "      a.set_title(features[i])\n",
        "      i += 1"
      ],
      "execution_count": null,
      "outputs": [
        {
          "output_type": "display_data",
          "data": {
            "image/png": "[encoded data removed]",
            "text/plain": [
              "<Figure size 1440x1440 with 12 Axes>"
            ]
          },
          "metadata": {
            "needs_background": "light"
          }
        }
      ]
    },
    {
      "cell_type": "markdown",
      "metadata": {
        "id": "67bSsl-prbNX"
      },
      "source": [
        "Aqui se grafican las distintas features enfuncion del label 'quality'. Esto puede ayudar a ver la correlacion entre cada una de las variables y la clase a predecir, asi como tambien entender la dispercion de los valores de cada feature segun el valor de la clase."
      ]
    },
    {
      "cell_type": "code",
      "metadata": {
        "id": "e_GiGrGqloQg",
        "colab": {
          "base_uri": "https://localhost:8080/"
        },
        "outputId": "c5579e9e-cead-414b-d60e-cf0f81dbf2bf"
      },
      "source": [
        "corr_ord = sorted([(i,coef) for i, coef in zip(correlations.index, correlations['quality'])], key= lambda x : abs(x[1]), reverse=True)\n",
        "corr_ord"
      ],
      "execution_count": null,
      "outputs": [
        {
          "output_type": "execute_result",
          "data": {
            "text/plain": [
              "[('quality', 1.0),\n",
              " ('alcohol', 0.47616632400114156),\n",
              " ('volatile acidity', -0.3905577802640094),\n",
              " ('sulphates', 0.25139707906926206),\n",
              " ('citric acid', 0.2263725143180432),\n",
              " ('total sulfur dioxide', -0.18510028892653843),\n",
              " ('density', -0.1749192277833492),\n",
              " ('chlorides', -0.12890655993005315),\n",
              " ('fixed acidity', 0.1240516491132247),\n",
              " ('pH', -0.0577313912053823),\n",
              " ('free sulfur dioxide', -0.05065605724427643),\n",
              " ('residual sugar', 0.013731637340066346)]"
            ]
          },
          "metadata": {},
          "execution_count": 11
        }
      ]
    },
    {
      "cell_type": "markdown",
      "metadata": {
        "id": "baJq-RphruHt"
      },
      "source": [
        "Finalmente, se ordenan los features en orden de correlacion con la clase 'quality'. De esta forma, se puede luego elegir las k features mas correlacionadas con la clase a predecir para crear los modelos de regresion lineal."
      ]
    },
    {
      "cell_type": "markdown",
      "metadata": {
        "id": "ja0NRh7-kcr7"
      },
      "source": [
        "#Parte 2\n",
        "Partiendo de los atributos de características del vino utilice el método de regresión \n",
        "lineal para predecir la calidad del mismo. Analice los resultados obtenidos. Revise y \n",
        "discuta si existen mecanismos para mejorar las métricas que arroja este modelo."
      ]
    },
    {
      "cell_type": "markdown",
      "metadata": {
        "id": "gOTzvrhQtbNf"
      },
      "source": [
        "Para una regresion lineal se podrian utilizar todos los features. Sin embargo,esto no solo genera un retrabajo innecesario (ya que puede que ciertas variables no aporten a la prediccion), sino que ademas podrian generar peores modelos.\n",
        "\n",
        "Para la seleccion de las variables tomamos dos caminos distintos. En primer luga, y como adelantamos antes, elegimos las k variables mas correlacionadas con la clase. En segundo lugar, utilizamos el metod ChiSelector de sklearn, que elige las k variables que generan mejores resultados."
      ]
    },
    {
      "cell_type": "code",
      "metadata": {
        "id": "bGoM3ySEhX3N"
      },
      "source": [
        "from sklearn import linear_model\n",
        "from sklearn.metrics import mean_squared_error, r2_score, mean_absolute_error\n",
        "from sklearn.model_selection import train_test_split\n",
        "\n",
        "sample = 0.8\n",
        "n_features = 5\n",
        "\n",
        "def get_X_Y(sample, n_features, df, corr_ord):\n",
        "  df_train, df_test = train_test_split(df, test_size=1-sample)\n",
        "\n",
        "  X_train = df_train[[i[0] for i in corr_ord[1:n_features]]]\n",
        "  X_test = df_test[[i[0] for i in corr_ord[1:n_features]]]\n",
        "  Y_train = df_train['quality']\n",
        "  Y_test = df_test['quality']\n",
        "\n",
        "  return X_train, X_test, Y_train, Y_test\n"
      ],
      "execution_count": null,
      "outputs": []
    },
    {
      "cell_type": "markdown",
      "metadata": {
        "id": "9AM2Ib0qs0Wj"
      },
      "source": [
        "Esta funcion devuelve los vectoers X e Y dado un coeficiente de sample y un numero de features a utilizar. En particular se elegien las n_features mas correlacionadas"
      ]
    },
    {
      "cell_type": "code",
      "metadata": {
        "id": "9Y_yOn8pRywB"
      },
      "source": [
        "def my_linear_model(X_train, X_test, Y_train, Y_test):\n",
        "  regr = linear_model.LinearRegression()\n",
        "\n",
        "  regr.fit(X_train, Y_train)\n",
        "\n",
        "  Y_pred = regr.predict(X_test)\n",
        "\n",
        "  mse = mean_squared_error(Y_test, Y_pred)\n",
        "  r2 = r2_score(Y_test, Y_pred)\n",
        "  mae =  mean_absolute_error(Y_test, Y_pred)\n",
        "\n",
        "  # print('MSE: %.2f' % mse)\n",
        "  # print('R2: %.2f' % r2)\n",
        "  # print('MAE: %.2f' % mae)\n",
        "  \n",
        "  return Y_pred, mse, r2, mae"
      ],
      "execution_count": null,
      "outputs": []
    },
    {
      "cell_type": "markdown",
      "metadata": {
        "id": "sPzbje4hs_70"
      },
      "source": [
        "Aqui se ejecuta el modelo lieneal a partir de los vectores X e Y de entrenamiento y validacion. Se devuelven las metricas del modelo"
      ]
    },
    {
      "cell_type": "code",
      "metadata": {
        "colab": {
          "base_uri": "https://localhost:8080/",
          "height": 362
        },
        "id": "zaHXPabWLUZI",
        "outputId": "2547620a-4cad-40c4-ce1b-92954fc417de"
      },
      "source": [
        "all_linear_models = []\n",
        "sample = 0.8\n",
        "for i in range(2,len(corr_ord)):\n",
        "  X_train, X_test, Y_train, Y_test = get_X_Y(sample, i, wine_df, corr_ord)\n",
        "  Y_pred, mse, r2, mae = my_linear_model(X_train, X_test, Y_train, Y_test)\n",
        "  all_linear_models += [(i,mse,r2,mae)]\n",
        "\n",
        "pd.DataFrame(all_linear_models, columns=['n_feature_', 'mse', 'r2', 'mae'])"
      ],
      "execution_count": null,
      "outputs": [
        {
          "output_type": "execute_result",
          "data": {
            "text/html": [
              "<div>\n",
              "<style scoped>\n",
              "    .dataframe tbody tr th:only-of-type {\n",
              "        vertical-align: middle;\n",
              "    }\n",
              "\n",
              "    .dataframe tbody tr th {\n",
              "        vertical-align: top;\n",
              "    }\n",
              "\n",
              "    .dataframe thead th {\n",
              "        text-align: right;\n",
              "    }\n",
              "</style>\n",
              "<table border=\"1\" class=\"dataframe\">\n",
              "  <thead>\n",
              "    <tr style=\"text-align: right;\">\n",
              "      <th></th>\n",
              "      <th>n_feature_</th>\n",
              "      <th>mse</th>\n",
              "      <th>r2</th>\n",
              "      <th>mae</th>\n",
              "    </tr>\n",
              "  </thead>\n",
              "  <tbody>\n",
              "    <tr>\n",
              "      <th>0</th>\n",
              "      <td>2</td>\n",
              "      <td>0.449414</td>\n",
              "      <td>0.287605</td>\n",
              "      <td>0.555195</td>\n",
              "    </tr>\n",
              "    <tr>\n",
              "      <th>1</th>\n",
              "      <td>3</td>\n",
              "      <td>0.439222</td>\n",
              "      <td>0.292825</td>\n",
              "      <td>0.534957</td>\n",
              "    </tr>\n",
              "    <tr>\n",
              "      <th>2</th>\n",
              "      <td>4</td>\n",
              "      <td>0.390880</td>\n",
              "      <td>0.367226</td>\n",
              "      <td>0.491275</td>\n",
              "    </tr>\n",
              "    <tr>\n",
              "      <th>3</th>\n",
              "      <td>5</td>\n",
              "      <td>0.406290</td>\n",
              "      <td>0.414019</td>\n",
              "      <td>0.506480</td>\n",
              "    </tr>\n",
              "    <tr>\n",
              "      <th>4</th>\n",
              "      <td>6</td>\n",
              "      <td>0.414599</td>\n",
              "      <td>0.363341</td>\n",
              "      <td>0.502770</td>\n",
              "    </tr>\n",
              "    <tr>\n",
              "      <th>5</th>\n",
              "      <td>7</td>\n",
              "      <td>0.361786</td>\n",
              "      <td>0.384757</td>\n",
              "      <td>0.468783</td>\n",
              "    </tr>\n",
              "    <tr>\n",
              "      <th>6</th>\n",
              "      <td>8</td>\n",
              "      <td>0.438151</td>\n",
              "      <td>0.340496</td>\n",
              "      <td>0.504398</td>\n",
              "    </tr>\n",
              "    <tr>\n",
              "      <th>7</th>\n",
              "      <td>9</td>\n",
              "      <td>0.425001</td>\n",
              "      <td>0.351366</td>\n",
              "      <td>0.506198</td>\n",
              "    </tr>\n",
              "    <tr>\n",
              "      <th>8</th>\n",
              "      <td>10</td>\n",
              "      <td>0.440488</td>\n",
              "      <td>0.301234</td>\n",
              "      <td>0.507604</td>\n",
              "    </tr>\n",
              "    <tr>\n",
              "      <th>9</th>\n",
              "      <td>11</td>\n",
              "      <td>0.420171</td>\n",
              "      <td>0.284387</td>\n",
              "      <td>0.509256</td>\n",
              "    </tr>\n",
              "  </tbody>\n",
              "</table>\n",
              "</div>"
            ],
            "text/plain": [
              "   n_feature_       mse        r2       mae\n",
              "0           2  0.449414  0.287605  0.555195\n",
              "1           3  0.439222  0.292825  0.534957\n",
              "2           4  0.390880  0.367226  0.491275\n",
              "3           5  0.406290  0.414019  0.506480\n",
              "4           6  0.414599  0.363341  0.502770\n",
              "5           7  0.361786  0.384757  0.468783\n",
              "6           8  0.438151  0.340496  0.504398\n",
              "7           9  0.425001  0.351366  0.506198\n",
              "8          10  0.440488  0.301234  0.507604\n",
              "9          11  0.420171  0.284387  0.509256"
            ]
          },
          "metadata": {},
          "execution_count": 14
        }
      ]
    },
    {
      "cell_type": "markdown",
      "metadata": {
        "id": "yOAaEAzbtLlZ"
      },
      "source": [
        "Este es el primer approach. Se prueba iterativamente la cantidad de variables a utilizar. En funcoin de las metricas, definimos uqe b_feature = 6 es una cantidad de variables optima."
      ]
    },
    {
      "cell_type": "code",
      "metadata": {
        "colab": {
          "base_uri": "https://localhost:8080/",
          "height": 217
        },
        "id": "LeIRof4ATUVp",
        "outputId": "738d33bd-da92-4f51-be5f-a1a94f387650"
      },
      "source": [
        "X_train, X_test, Y_train, Y_test = get_X_Y(sample, 6, wine_df, corr_ord)\n",
        "Y_pred, mse, r2, mae = my_linear_model(X_train, X_test, Y_train, Y_test)\n",
        "plt.scatter([i for i in range(len(Y_test))], Y_test,c='r', label='Real')\n",
        "plt.scatter([i for i in range(len(Y_test))], Y_pred,c='b', alpha=0.5, label='Predicted' )"
      ],
      "execution_count": 1,
      "outputs": [
        {
          "output_type": "error",
          "ename": "NameError",
          "evalue": "ignored",
          "traceback": [
            "\u001b[0;31m---------------------------------------------------------------------------\u001b[0m",
            "\u001b[0;31mNameError\u001b[0m                                 Traceback (most recent call last)",
            "\u001b[0;32m<ipython-input-1-8c9014e2a0fe>\u001b[0m in \u001b[0;36m<module>\u001b[0;34m()\u001b[0m\n\u001b[0;32m----> 1\u001b[0;31m \u001b[0mX_train\u001b[0m\u001b[0;34m,\u001b[0m \u001b[0mX_test\u001b[0m\u001b[0;34m,\u001b[0m \u001b[0mY_train\u001b[0m\u001b[0;34m,\u001b[0m \u001b[0mY_test\u001b[0m \u001b[0;34m=\u001b[0m \u001b[0mget_X_Y\u001b[0m\u001b[0;34m(\u001b[0m\u001b[0msample\u001b[0m\u001b[0;34m,\u001b[0m \u001b[0;36m6\u001b[0m\u001b[0;34m,\u001b[0m \u001b[0mwine_df\u001b[0m\u001b[0;34m,\u001b[0m \u001b[0mcorr_ord\u001b[0m\u001b[0;34m)\u001b[0m\u001b[0;34m\u001b[0m\u001b[0;34m\u001b[0m\u001b[0m\n\u001b[0m\u001b[1;32m      2\u001b[0m \u001b[0mY_pred\u001b[0m\u001b[0;34m,\u001b[0m \u001b[0mmse\u001b[0m\u001b[0;34m,\u001b[0m \u001b[0mr2\u001b[0m\u001b[0;34m,\u001b[0m \u001b[0mmae\u001b[0m \u001b[0;34m=\u001b[0m \u001b[0mmy_linear_model\u001b[0m\u001b[0;34m(\u001b[0m\u001b[0mX_train\u001b[0m\u001b[0;34m,\u001b[0m \u001b[0mX_test\u001b[0m\u001b[0;34m,\u001b[0m \u001b[0mY_train\u001b[0m\u001b[0;34m,\u001b[0m \u001b[0mY_test\u001b[0m\u001b[0;34m)\u001b[0m\u001b[0;34m\u001b[0m\u001b[0;34m\u001b[0m\u001b[0m\n\u001b[1;32m      3\u001b[0m \u001b[0mplt\u001b[0m\u001b[0;34m.\u001b[0m\u001b[0mscatter\u001b[0m\u001b[0;34m(\u001b[0m\u001b[0;34m[\u001b[0m\u001b[0mi\u001b[0m \u001b[0;32mfor\u001b[0m \u001b[0mi\u001b[0m \u001b[0;32min\u001b[0m \u001b[0mrange\u001b[0m\u001b[0;34m(\u001b[0m\u001b[0mlen\u001b[0m\u001b[0;34m(\u001b[0m\u001b[0mY_test\u001b[0m\u001b[0;34m)\u001b[0m\u001b[0;34m)\u001b[0m\u001b[0;34m]\u001b[0m\u001b[0;34m,\u001b[0m \u001b[0mY_test\u001b[0m\u001b[0;34m,\u001b[0m\u001b[0mc\u001b[0m\u001b[0;34m=\u001b[0m\u001b[0;34m'r'\u001b[0m\u001b[0;34m,\u001b[0m \u001b[0mlegend\u001b[0m\u001b[0;34m=\u001b[0m\u001b[0;34m'Real'\u001b[0m\u001b[0;34m)\u001b[0m\u001b[0;34m\u001b[0m\u001b[0;34m\u001b[0m\u001b[0m\n\u001b[1;32m      4\u001b[0m \u001b[0mplt\u001b[0m\u001b[0;34m.\u001b[0m\u001b[0mscatter\u001b[0m\u001b[0;34m(\u001b[0m\u001b[0;34m[\u001b[0m\u001b[0mi\u001b[0m \u001b[0;32mfor\u001b[0m \u001b[0mi\u001b[0m \u001b[0;32min\u001b[0m \u001b[0mrange\u001b[0m\u001b[0;34m(\u001b[0m\u001b[0mlen\u001b[0m\u001b[0;34m(\u001b[0m\u001b[0mY_test\u001b[0m\u001b[0;34m)\u001b[0m\u001b[0;34m)\u001b[0m\u001b[0;34m]\u001b[0m\u001b[0;34m,\u001b[0m \u001b[0mY_pred\u001b[0m\u001b[0;34m,\u001b[0m\u001b[0mc\u001b[0m\u001b[0;34m=\u001b[0m\u001b[0;34m'b'\u001b[0m\u001b[0;34m,\u001b[0m \u001b[0malpha\u001b[0m\u001b[0;34m=\u001b[0m\u001b[0;36m0.5\u001b[0m\u001b[0;34m)\u001b[0m\u001b[0;34m\u001b[0m\u001b[0;34m\u001b[0m\u001b[0m\n",
            "\u001b[0;31mNameError\u001b[0m: name 'get_X_Y' is not defined"
          ]
        }
      ]
    },
    {
      "cell_type": "markdown",
      "metadata": {
        "id": "1Bg9yOb2uFrx"
      },
      "source": [
        "Ademas de obtener las metricas para el modelo, resulta interesante plotear las predicciones y los valores reales para cada instancia. \n",
        "Aqui podemos observar que las predicciones no son necesariamente un valor discreto, dado que estamos realizando una regresion lineal."
      ]
    },
    {
      "cell_type": "code",
      "metadata": {
        "id": "VHPDythYUfFF",
        "colab": {
          "base_uri": "https://localhost:8080/",
          "height": 334
        },
        "outputId": "444f58a3-3229-4df2-da68-f01ad70cc715"
      },
      "source": [
        "import math\n",
        "Y_pred_adapted = [math.floor(i) if abs(math.floor(i)-i) <= 0.5 else math.ceil(i) for i in Y_pred]\n",
        "print('MSE: %.2f' % mean_squared_error(Y_test, Y_pred_adapted))\n",
        "print('R2: %.2f' % r2_score(Y_test, Y_pred_adapted))\n",
        "print('MAE: %.2f' % mean_absolute_error(Y_test, Y_pred_adapted))\n",
        "\n",
        "plt.scatter([i for i in range(len(Y_test))], Y_test,c='r')\n",
        "plt.scatter([i for i in range(len(Y_test))], Y_pred_adapted,c='b', alpha=0.5)"
      ],
      "execution_count": null,
      "outputs": [
        {
          "output_type": "stream",
          "name": "stdout",
          "text": [
            "MSE: 0.43\n",
            "R2: 0.24\n",
            "MAE: 0.40\n"
          ]
        },
        {
          "output_type": "execute_result",
          "data": {
            "text/plain": [
              "<matplotlib.collections.PathCollection at 0x7ff59d43ea10>"
            ]
          },
          "metadata": {},
          "execution_count": 16
        },
        {
          "output_type": "display_data",
          "data": {
            "image/png": "[encoded data removed]",
            "text/plain": [
              "<Figure size 432x288 with 1 Axes>"
            ]
          },
          "metadata": {
            "needs_background": "light"
          }
        }
      ]
    },
    {
      "cell_type": "markdown",
      "metadata": {
        "id": "T7Q-eJiRurdg"
      },
      "source": [
        "Visto lo anterior, resulta interesante obtener las metricas del modelo luego de colapsar las predicciones continuas a los posibles valores discretos de la variable 'quality'. Vemos que en este caso las metricas empeoran"
      ]
    },
    {
      "cell_type": "code",
      "metadata": {
        "id": "VgkZtqMVU04P",
        "colab": {
          "base_uri": "https://localhost:8080/"
        },
        "outputId": "13696f4f-eba8-4e2f-8079-623d4831c36d"
      },
      "source": [
        "from sklearn.feature_selection import SelectKBest\n",
        "from sklearn.feature_selection import chi2\n",
        "from sklearn.pipeline import Pipeline\n",
        "\n",
        "X_train, X_test, Y_train, Y_test = get_X_Y(sample, len(corr_ord), wine_df, corr_ord)\n",
        "\n",
        "pipe = Pipeline([('fselector', SelectKBest(chi2, k=6)), ('l_reg', linear_model.LinearRegression())])\n",
        "pipe.fit(X_train, Y_train)\n",
        "Y_pred = pipe.predict(X_test)\n",
        "\n",
        "mse = mean_squared_error(Y_test, Y_pred)\n",
        "r2 = r2_score(Y_test, Y_pred)\n",
        "mae =  mean_absolute_error(Y_test, Y_pred)\n",
        "\n",
        "print('MSE: %.2f' % mse)\n",
        "print('R2: %.2f' % r2)\n",
        "print('MAE: %.2f' % mae)\n"
      ],
      "execution_count": null,
      "outputs": [
        {
          "output_type": "stream",
          "name": "stdout",
          "text": [
            "MSE: 0.47\n",
            "R2: 0.39\n",
            "MAE: 0.53\n"
          ]
        }
      ]
    },
    {
      "cell_type": "markdown",
      "metadata": {
        "id": "USiLGnVUu8ve"
      },
      "source": [
        "En el caso del ChiSelector, utilizamos tambien las mejores 6 features (para ser justos con el modelo de features elegidos segun su correlacion).\n",
        "\n",
        "Podemos ver como logramos un modelo similar, con metricas un poco por debajo"
      ]
    },
    {
      "cell_type": "markdown",
      "metadata": {
        "id": "Xc4VTfqYOCYe"
      },
      "source": [
        "# Parte 3\n",
        "Utilizando los métodos de clasificación vistos en el curso, se pretende encontrar el mejor modelo que permita predecir, a partir de las características disponibles en el dataset [1], la calidad del vino. La variable de calidad debe de convertirse a una clase de 2 valores: bueno y malo,. Será parte del problema definir el umbral de corte para determinar esta clase, partiendo de las categorías definidas en [1].\n",
        "Utilizando los métodos y métricas vistas en el curso, compare los resultados obtenidos. Para todos los métodos utilizados, estudie la relevancia de cada uno de los atributos o features.\n",
        "Para cada uno de los modelos utilizados, detalle los hiperparámetros aplicados.\n",
        "\n"
      ]
    },
    {
      "cell_type": "code",
      "metadata": {
        "id": "ZmxfAdfkXTCB",
        "colab": {
          "base_uri": "https://localhost:8080/",
          "height": 438
        },
        "outputId": "d3360ff8-4c73-4313-98a9-b66f859825a3"
      },
      "source": [
        "wine_df['quality'].describe(),  wine_df['quality'].hist()"
      ],
      "execution_count": null,
      "outputs": [
        {
          "output_type": "execute_result",
          "data": {
            "text/plain": [
              "(count    1599.000000\n",
              " mean        5.636023\n",
              " std         0.807569\n",
              " min         3.000000\n",
              " 25%         5.000000\n",
              " 50%         6.000000\n",
              " 75%         6.000000\n",
              " max         8.000000\n",
              " Name: quality, dtype: float64,\n",
              " <matplotlib.axes._subplots.AxesSubplot at 0x7ff59526c6d0>)"
            ]
          },
          "metadata": {},
          "execution_count": 18
        },
        {
          "output_type": "display_data",
          "data": {
            "image/png": "[encoded data removed]",
            "text/plain": [
              "<Figure size 432x288 with 1 Axes>"
            ]
          },
          "metadata": {
            "needs_background": "light"
          }
        }
      ]
    },
    {
      "cell_type": "code",
      "metadata": {
        "id": "z9UrICknOnli"
      },
      "source": [
        "def set_label(df, umbral, label_name, rank_name):\n",
        "\n",
        "  df[label_name] = [1 if q>=umbral else 0 for q in df[rank_name]]\n",
        "  return df"
      ],
      "execution_count": null,
      "outputs": []
    },
    {
      "cell_type": "code",
      "metadata": {
        "colab": {
          "base_uri": "https://localhost:8080/",
          "height": 422
        },
        "id": "kzvxe1YpPF6F",
        "outputId": "58c0f568-722a-4f98-d0be-bb915eadc175"
      },
      "source": [
        "wine_df = set_label(wine_df, 6, 'q_label', 'quality')\n",
        "wine_df"
      ],
      "execution_count": null,
      "outputs": [
        {
          "output_type": "execute_result",
          "data": {
            "text/html": [
              "<div>\n",
              "<style scoped>\n",
              "    .dataframe tbody tr th:only-of-type {\n",
              "        vertical-align: middle;\n",
              "    }\n",
              "\n",
              "    .dataframe tbody tr th {\n",
              "        vertical-align: top;\n",
              "    }\n",
              "\n",
              "    .dataframe thead th {\n",
              "        text-align: right;\n",
              "    }\n",
              "</style>\n",
              "<table border=\"1\" class=\"dataframe\">\n",
              "  <thead>\n",
              "    <tr style=\"text-align: right;\">\n",
              "      <th></th>\n",
              "      <th>fixed acidity</th>\n",
              "      <th>volatile acidity</th>\n",
              "      <th>citric acid</th>\n",
              "      <th>residual sugar</th>\n",
              "      <th>chlorides</th>\n",
              "      <th>free sulfur dioxide</th>\n",
              "      <th>total sulfur dioxide</th>\n",
              "      <th>density</th>\n",
              "      <th>pH</th>\n",
              "      <th>sulphates</th>\n",
              "      <th>alcohol</th>\n",
              "      <th>quality</th>\n",
              "      <th>q_label</th>\n",
              "    </tr>\n",
              "  </thead>\n",
              "  <tbody>\n",
              "    <tr>\n",
              "      <th>0</th>\n",
              "      <td>7.4</td>\n",
              "      <td>0.700</td>\n",
              "      <td>0.00</td>\n",
              "      <td>1.9</td>\n",
              "      <td>0.076</td>\n",
              "      <td>11.0</td>\n",
              "      <td>34.0</td>\n",
              "      <td>0.99780</td>\n",
              "      <td>3.51</td>\n",
              "      <td>0.56</td>\n",
              "      <td>9.4</td>\n",
              "      <td>5</td>\n",
              "      <td>0</td>\n",
              "    </tr>\n",
              "    <tr>\n",
              "      <th>1</th>\n",
              "      <td>7.8</td>\n",
              "      <td>0.880</td>\n",
              "      <td>0.00</td>\n",
              "      <td>2.6</td>\n",
              "      <td>0.098</td>\n",
              "      <td>25.0</td>\n",
              "      <td>67.0</td>\n",
              "      <td>0.99680</td>\n",
              "      <td>3.20</td>\n",
              "      <td>0.68</td>\n",
              "      <td>9.8</td>\n",
              "      <td>5</td>\n",
              "      <td>0</td>\n",
              "    </tr>\n",
              "    <tr>\n",
              "      <th>2</th>\n",
              "      <td>7.8</td>\n",
              "      <td>0.760</td>\n",
              "      <td>0.04</td>\n",
              "      <td>2.3</td>\n",
              "      <td>0.092</td>\n",
              "      <td>15.0</td>\n",
              "      <td>54.0</td>\n",
              "      <td>0.99700</td>\n",
              "      <td>3.26</td>\n",
              "      <td>0.65</td>\n",
              "      <td>9.8</td>\n",
              "      <td>5</td>\n",
              "      <td>0</td>\n",
              "    </tr>\n",
              "    <tr>\n",
              "      <th>3</th>\n",
              "      <td>11.2</td>\n",
              "      <td>0.280</td>\n",
              "      <td>0.56</td>\n",
              "      <td>1.9</td>\n",
              "      <td>0.075</td>\n",
              "      <td>17.0</td>\n",
              "      <td>60.0</td>\n",
              "      <td>0.99800</td>\n",
              "      <td>3.16</td>\n",
              "      <td>0.58</td>\n",
              "      <td>9.8</td>\n",
              "      <td>6</td>\n",
              "      <td>1</td>\n",
              "    </tr>\n",
              "    <tr>\n",
              "      <th>4</th>\n",
              "      <td>7.4</td>\n",
              "      <td>0.700</td>\n",
              "      <td>0.00</td>\n",
              "      <td>1.9</td>\n",
              "      <td>0.076</td>\n",
              "      <td>11.0</td>\n",
              "      <td>34.0</td>\n",
              "      <td>0.99780</td>\n",
              "      <td>3.51</td>\n",
              "      <td>0.56</td>\n",
              "      <td>9.4</td>\n",
              "      <td>5</td>\n",
              "      <td>0</td>\n",
              "    </tr>\n",
              "    <tr>\n",
              "      <th>...</th>\n",
              "      <td>...</td>\n",
              "      <td>...</td>\n",
              "      <td>...</td>\n",
              "      <td>...</td>\n",
              "      <td>...</td>\n",
              "      <td>...</td>\n",
              "      <td>...</td>\n",
              "      <td>...</td>\n",
              "      <td>...</td>\n",
              "      <td>...</td>\n",
              "      <td>...</td>\n",
              "      <td>...</td>\n",
              "      <td>...</td>\n",
              "    </tr>\n",
              "    <tr>\n",
              "      <th>1594</th>\n",
              "      <td>6.2</td>\n",
              "      <td>0.600</td>\n",
              "      <td>0.08</td>\n",
              "      <td>2.0</td>\n",
              "      <td>0.090</td>\n",
              "      <td>32.0</td>\n",
              "      <td>44.0</td>\n",
              "      <td>0.99490</td>\n",
              "      <td>3.45</td>\n",
              "      <td>0.58</td>\n",
              "      <td>10.5</td>\n",
              "      <td>5</td>\n",
              "      <td>0</td>\n",
              "    </tr>\n",
              "    <tr>\n",
              "      <th>1595</th>\n",
              "      <td>5.9</td>\n",
              "      <td>0.550</td>\n",
              "      <td>0.10</td>\n",
              "      <td>2.2</td>\n",
              "      <td>0.062</td>\n",
              "      <td>39.0</td>\n",
              "      <td>51.0</td>\n",
              "      <td>0.99512</td>\n",
              "      <td>3.52</td>\n",
              "      <td>0.76</td>\n",
              "      <td>11.2</td>\n",
              "      <td>6</td>\n",
              "      <td>1</td>\n",
              "    </tr>\n",
              "    <tr>\n",
              "      <th>1596</th>\n",
              "      <td>6.3</td>\n",
              "      <td>0.510</td>\n",
              "      <td>0.13</td>\n",
              "      <td>2.3</td>\n",
              "      <td>0.076</td>\n",
              "      <td>29.0</td>\n",
              "      <td>40.0</td>\n",
              "      <td>0.99574</td>\n",
              "      <td>3.42</td>\n",
              "      <td>0.75</td>\n",
              "      <td>11.0</td>\n",
              "      <td>6</td>\n",
              "      <td>1</td>\n",
              "    </tr>\n",
              "    <tr>\n",
              "      <th>1597</th>\n",
              "      <td>5.9</td>\n",
              "      <td>0.645</td>\n",
              "      <td>0.12</td>\n",
              "      <td>2.0</td>\n",
              "      <td>0.075</td>\n",
              "      <td>32.0</td>\n",
              "      <td>44.0</td>\n",
              "      <td>0.99547</td>\n",
              "      <td>3.57</td>\n",
              "      <td>0.71</td>\n",
              "      <td>10.2</td>\n",
              "      <td>5</td>\n",
              "      <td>0</td>\n",
              "    </tr>\n",
              "    <tr>\n",
              "      <th>1598</th>\n",
              "      <td>6.0</td>\n",
              "      <td>0.310</td>\n",
              "      <td>0.47</td>\n",
              "      <td>3.6</td>\n",
              "      <td>0.067</td>\n",
              "      <td>18.0</td>\n",
              "      <td>42.0</td>\n",
              "      <td>0.99549</td>\n",
              "      <td>3.39</td>\n",
              "      <td>0.66</td>\n",
              "      <td>11.0</td>\n",
              "      <td>6</td>\n",
              "      <td>1</td>\n",
              "    </tr>\n",
              "  </tbody>\n",
              "</table>\n",
              "<p>1599 rows × 13 columns</p>\n",
              "</div>"
            ],
            "text/plain": [
              "      fixed acidity  volatile acidity  citric acid  ...  alcohol  quality  q_label\n",
              "0               7.4             0.700         0.00  ...      9.4        5        0\n",
              "1               7.8             0.880         0.00  ...      9.8        5        0\n",
              "2               7.8             0.760         0.04  ...      9.8        5        0\n",
              "3              11.2             0.280         0.56  ...      9.8        6        1\n",
              "4               7.4             0.700         0.00  ...      9.4        5        0\n",
              "...             ...               ...          ...  ...      ...      ...      ...\n",
              "1594            6.2             0.600         0.08  ...     10.5        5        0\n",
              "1595            5.9             0.550         0.10  ...     11.2        6        1\n",
              "1596            6.3             0.510         0.13  ...     11.0        6        1\n",
              "1597            5.9             0.645         0.12  ...     10.2        5        0\n",
              "1598            6.0             0.310         0.47  ...     11.0        6        1\n",
              "\n",
              "[1599 rows x 13 columns]"
            ]
          },
          "metadata": {},
          "execution_count": 20
        }
      ]
    },
    {
      "cell_type": "code",
      "metadata": {
        "id": "5ddIX85EPlUJ"
      },
      "source": [
        "from sklearn.metrics import accuracy_score, classification_report, confusion_matrix, roc_auc_score, roc_curve, auc\n",
        "\n",
        "def get_scores(Y_pred, probs, Y_test, plot=True):\n",
        "\n",
        "  # Calcular TP, TN, FP, FN\n",
        "  # Armar matriz de cofusion\n",
        "  # Recall, Precision, Accuracy, F1\n",
        "  # AUC\n",
        "  # probas = model.predict_proba(X_test)\n",
        "  fpr, tpr, thresholds = roc_curve(Y_test,probs[:,1])\n",
        "  if plot:\n",
        "    plt.plot([0,1],[0,1],'k--') #se grafica la linea diagonal\n",
        "    plt.plot(fpr, tpr, label='NB') #se grafica la curva ROC\n",
        "    plt.xlabel('fpr')\n",
        "    plt.ylabel('tpr')\n",
        "    plt.show()\n",
        "    print(\"AUC: {}\" .format(auc(fpr, tpr)))\n",
        "\n",
        "  accuracy = accuracy_score(Y_test, Y_pred)\n",
        "    \n",
        "  \n",
        "  mat = confusion_matrix(Y_test, Y_pred)\n",
        "  if plot:\n",
        "    print (classification_report(Y_test,Y_pred))\n",
        "    sns.heatmap(mat.T, square=True, annot=True, fmt='d', cbar=False)\n",
        "    plt.xlabel('Clase de test')\n",
        "    plt.ylabel('Clase de la predicción');\n",
        "\n",
        "  return accuracy"
      ],
      "execution_count": null,
      "outputs": []
    },
    {
      "cell_type": "code",
      "metadata": {
        "id": "hpDEocLAWYNy"
      },
      "source": [
        "sample = 0.8\n",
        "df_train, df_test = train_test_split(wine_df, train_size=sample)\n",
        "\n",
        "X_train = df_train[features]\n",
        "X_test = df_test[features]\n",
        "Y_train = df_train['q_label']\n",
        "Y_test = df_test['q_label']"
      ],
      "execution_count": null,
      "outputs": []
    },
    {
      "cell_type": "code",
      "metadata": {
        "colab": {
          "base_uri": "https://localhost:8080/",
          "height": 393
        },
        "id": "V_a2gQtAadUh",
        "outputId": "d893dccb-b889-4d85-fdec-10d74b84738b"
      },
      "source": [
        "from sklearn.naive_bayes import GaussianNB\n",
        "all_gdb = []\n",
        "for f in range(1,len(features)+1):\n",
        "  model = GaussianNB()\n",
        "\n",
        "  pipe = Pipeline([('fselector', SelectKBest(chi2, k=f)), ('gnb', model)])\n",
        "  pipe.fit(X_train, Y_train)\n",
        "  new_Y_pewd = pipe.predict_proba(X_test)\n",
        "\n",
        "  # new_Y_pewd = model.predict_proba(X_test)\n",
        "  umbral_prob = 0.5\n",
        "  Y_pred = [0 if p>umbral_prob else 1 for p in new_Y_pewd[:,0]]\n",
        "  all_gdb += [(f,get_scores(Y_pred, new_Y_pewd, Y_test, plot=False))]\n",
        "\n",
        "all_gdb = sorted(all_gdb, key = lambda x : x[1], reverse=True)\n",
        "all_gdb = pd.DataFrame(all_gdb, columns=['n_feature', 'acc'])\n",
        "all_gdb"
      ],
      "execution_count": null,
      "outputs": [
        {
          "output_type": "execute_result",
          "data": {
            "text/html": [
              "<div>\n",
              "<style scoped>\n",
              "    .dataframe tbody tr th:only-of-type {\n",
              "        vertical-align: middle;\n",
              "    }\n",
              "\n",
              "    .dataframe tbody tr th {\n",
              "        vertical-align: top;\n",
              "    }\n",
              "\n",
              "    .dataframe thead th {\n",
              "        text-align: right;\n",
              "    }\n",
              "</style>\n",
              "<table border=\"1\" class=\"dataframe\">\n",
              "  <thead>\n",
              "    <tr style=\"text-align: right;\">\n",
              "      <th></th>\n",
              "      <th>n_feature</th>\n",
              "      <th>acc</th>\n",
              "    </tr>\n",
              "  </thead>\n",
              "  <tbody>\n",
              "    <tr>\n",
              "      <th>0</th>\n",
              "      <td>7</td>\n",
              "      <td>0.771875</td>\n",
              "    </tr>\n",
              "    <tr>\n",
              "      <th>1</th>\n",
              "      <td>5</td>\n",
              "      <td>0.765625</td>\n",
              "    </tr>\n",
              "    <tr>\n",
              "      <th>2</th>\n",
              "      <td>6</td>\n",
              "      <td>0.765625</td>\n",
              "    </tr>\n",
              "    <tr>\n",
              "      <th>3</th>\n",
              "      <td>9</td>\n",
              "      <td>0.753125</td>\n",
              "    </tr>\n",
              "    <tr>\n",
              "      <th>4</th>\n",
              "      <td>4</td>\n",
              "      <td>0.746875</td>\n",
              "    </tr>\n",
              "    <tr>\n",
              "      <th>5</th>\n",
              "      <td>8</td>\n",
              "      <td>0.746875</td>\n",
              "    </tr>\n",
              "    <tr>\n",
              "      <th>6</th>\n",
              "      <td>10</td>\n",
              "      <td>0.746875</td>\n",
              "    </tr>\n",
              "    <tr>\n",
              "      <th>7</th>\n",
              "      <td>11</td>\n",
              "      <td>0.746875</td>\n",
              "    </tr>\n",
              "    <tr>\n",
              "      <th>8</th>\n",
              "      <td>2</td>\n",
              "      <td>0.709375</td>\n",
              "    </tr>\n",
              "    <tr>\n",
              "      <th>9</th>\n",
              "      <td>3</td>\n",
              "      <td>0.700000</td>\n",
              "    </tr>\n",
              "    <tr>\n",
              "      <th>10</th>\n",
              "      <td>1</td>\n",
              "      <td>0.562500</td>\n",
              "    </tr>\n",
              "  </tbody>\n",
              "</table>\n",
              "</div>"
            ],
            "text/plain": [
              "    n_feature       acc\n",
              "0           7  0.771875\n",
              "1           5  0.765625\n",
              "2           6  0.765625\n",
              "3           9  0.753125\n",
              "4           4  0.746875\n",
              "5           8  0.746875\n",
              "6          10  0.746875\n",
              "7          11  0.746875\n",
              "8           2  0.709375\n",
              "9           3  0.700000\n",
              "10          1  0.562500"
            ]
          },
          "metadata": {},
          "execution_count": 33
        }
      ]
    },
    {
      "cell_type": "code",
      "metadata": {
        "colab": {
          "base_uri": "https://localhost:8080/",
          "height": 731
        },
        "id": "bcDhnS-sRCmb",
        "outputId": "25b40749-1903-4960-dfd5-c7c5ab1b6cce"
      },
      "source": [
        "model = GaussianNB()\n",
        "# model.fit(X_train, Y_train);\n",
        "\n",
        "pipe = Pipeline([('fselector', SelectKBest(chi2, k=all_gdb['n_feature'][0])), ('gnb', model)])\n",
        "pipe.fit(X_train, Y_train)\n",
        "new_Y_pewd = pipe.predict_proba(X_test)\n",
        "\n",
        "# new_Y_pewd = model.predict_proba(X_test)\n",
        "umbral_prob = 0.5\n",
        "Y_pred = [0 if p>umbral_prob else 1 for p in new_Y_pewd[:,0]]\n",
        "get_scores(Y_pred, new_Y_pewd, Y_test)"
      ],
      "execution_count": null,
      "outputs": [
        {
          "output_type": "display_data",
          "data": {
            "image/png": "[encoded data removed]",
            "text/plain": [
              "<Figure size 432x288 with 1 Axes>"
            ]
          },
          "metadata": {
            "needs_background": "light"
          }
        },
        {
          "output_type": "stream",
          "name": "stdout",
          "text": [
            "AUC: 0.8274393341409089\n",
            "              precision    recall  f1-score   support\n",
            "\n",
            "           0       0.77      0.78      0.78       163\n",
            "           1       0.77      0.76      0.77       157\n",
            "\n",
            "    accuracy                           0.77       320\n",
            "   macro avg       0.77      0.77      0.77       320\n",
            "weighted avg       0.77      0.77      0.77       320\n",
            "\n"
          ]
        },
        {
          "output_type": "execute_result",
          "data": {
            "text/plain": [
              "0.771875"
            ]
          },
          "metadata": {},
          "execution_count": 53
        },
        {
          "output_type": "display_data",
          "data": {
            "image/png": "[encoded data removed]",
            "text/plain": [
              "<Figure size 432x288 with 1 Axes>"
            ]
          },
          "metadata": {
            "needs_background": "light"
          }
        }
      ]
    },
    {
      "cell_type": "code",
      "metadata": {
        "colab": {
          "base_uri": "https://localhost:8080/",
          "height": 731
        },
        "id": "2ILzE7HnTMVC",
        "outputId": "b799e845-44b1-4b34-e5b3-94de88edacff"
      },
      "source": [
        "from sklearn.linear_model import LogisticRegression\n",
        "\n",
        "model = LogisticRegression(max_iter=1000, solver='lbfgs')\n",
        "# model.fit(X_train, Y_train);\n",
        "\n",
        "pipe = Pipeline([('fselector', SelectKBest(chi2, k=10)), ('lr', model)])\n",
        "pipe.fit(X_train, Y_train)\n",
        "new_Y_pewd = pipe.predict_proba(X_test)\n",
        "\n",
        "# new_Y_pewd = model.predict_proba(X_test)\n",
        "umbral_prob = 0.5\n",
        "Y_pred = [0 if p>umbral_prob else 1 for p in new_Y_pewd[:,0]]\n",
        "get_scores(Y_pred, new_Y_pewd, Y_test)"
      ],
      "execution_count": null,
      "outputs": [
        {
          "output_type": "display_data",
          "data": {
            "image/png": "[encoded data removed]",
            "text/plain": [
              "<Figure size 432x288 with 1 Axes>"
            ]
          },
          "metadata": {
            "needs_background": "light"
          }
        },
        {
          "output_type": "stream",
          "name": "stdout",
          "text": [
            "AUC: 0.8333007698018835\n",
            "              precision    recall  f1-score   support\n",
            "\n",
            "           0       0.82      0.73      0.77       163\n",
            "           1       0.75      0.83      0.79       157\n",
            "\n",
            "    accuracy                           0.78       320\n",
            "   macro avg       0.78      0.78      0.78       320\n",
            "weighted avg       0.78      0.78      0.78       320\n",
            "\n"
          ]
        },
        {
          "output_type": "execute_result",
          "data": {
            "text/plain": [
              "0.778125"
            ]
          },
          "metadata": {},
          "execution_count": 54
        },
        {
          "output_type": "display_data",
          "data": {
            "image/png": "[encoded data removed]",
            "text/plain": [
              "<Figure size 432x288 with 1 Axes>"
            ]
          },
          "metadata": {
            "needs_background": "light"
          }
        }
      ]
    },
    {
      "cell_type": "code",
      "metadata": {
        "colab": {
          "base_uri": "https://localhost:8080/",
          "height": 393
        },
        "id": "_pE9EjLKdDUp",
        "outputId": "896604d8-64d1-4169-932f-60ebef7567a2"
      },
      "source": [
        "all_lr = []\n",
        "for f in range(1,len(features)+1):\n",
        "  model = LogisticRegression(max_iter=1000, solver='lbfgs', class_weight='balanced')\n",
        "  # model.fit(X_train, Y_train);\n",
        "\n",
        "  pipe = Pipeline([('fselector', SelectKBest(chi2, k=f)), ('lr', model)])\n",
        "  pipe.fit(X_train, Y_train)\n",
        "  new_Y_pewd = pipe.predict_proba(X_test)\n",
        "\n",
        "  # new_Y_pewd = model.predict_proba(X_test)\n",
        "  umbral_prob = 0.5\n",
        "  Y_pred = [0 if p>umbral_prob else 1 for p in new_Y_pewd[:,0]]\n",
        "  all_lr += [(f,get_scores(Y_pred, new_Y_pewd, Y_test, plot=False))]\n",
        "\n",
        "all_lr = sorted(all_lr, key = lambda x : x[1], reverse=True)\n",
        "all_lr = pd.DataFrame(all_lr, columns=['n_feature', 'acc'])\n",
        "all_lr"
      ],
      "execution_count": null,
      "outputs": [
        {
          "output_type": "execute_result",
          "data": {
            "text/html": [
              "<div>\n",
              "<style scoped>\n",
              "    .dataframe tbody tr th:only-of-type {\n",
              "        vertical-align: middle;\n",
              "    }\n",
              "\n",
              "    .dataframe tbody tr th {\n",
              "        vertical-align: top;\n",
              "    }\n",
              "\n",
              "    .dataframe thead th {\n",
              "        text-align: right;\n",
              "    }\n",
              "</style>\n",
              "<table border=\"1\" class=\"dataframe\">\n",
              "  <thead>\n",
              "    <tr style=\"text-align: right;\">\n",
              "      <th></th>\n",
              "      <th>n_feature</th>\n",
              "      <th>acc</th>\n",
              "    </tr>\n",
              "  </thead>\n",
              "  <tbody>\n",
              "    <tr>\n",
              "      <th>0</th>\n",
              "      <td>8</td>\n",
              "      <td>0.796875</td>\n",
              "    </tr>\n",
              "    <tr>\n",
              "      <th>1</th>\n",
              "      <td>7</td>\n",
              "      <td>0.793750</td>\n",
              "    </tr>\n",
              "    <tr>\n",
              "      <th>2</th>\n",
              "      <td>9</td>\n",
              "      <td>0.793750</td>\n",
              "    </tr>\n",
              "    <tr>\n",
              "      <th>3</th>\n",
              "      <td>10</td>\n",
              "      <td>0.793750</td>\n",
              "    </tr>\n",
              "    <tr>\n",
              "      <th>4</th>\n",
              "      <td>11</td>\n",
              "      <td>0.793750</td>\n",
              "    </tr>\n",
              "    <tr>\n",
              "      <th>5</th>\n",
              "      <td>4</td>\n",
              "      <td>0.781250</td>\n",
              "    </tr>\n",
              "    <tr>\n",
              "      <th>6</th>\n",
              "      <td>5</td>\n",
              "      <td>0.781250</td>\n",
              "    </tr>\n",
              "    <tr>\n",
              "      <th>7</th>\n",
              "      <td>6</td>\n",
              "      <td>0.781250</td>\n",
              "    </tr>\n",
              "    <tr>\n",
              "      <th>8</th>\n",
              "      <td>3</td>\n",
              "      <td>0.721875</td>\n",
              "    </tr>\n",
              "    <tr>\n",
              "      <th>9</th>\n",
              "      <td>2</td>\n",
              "      <td>0.706250</td>\n",
              "    </tr>\n",
              "    <tr>\n",
              "      <th>10</th>\n",
              "      <td>1</td>\n",
              "      <td>0.603125</td>\n",
              "    </tr>\n",
              "  </tbody>\n",
              "</table>\n",
              "</div>"
            ],
            "text/plain": [
              "    n_feature       acc\n",
              "0           8  0.796875\n",
              "1           7  0.793750\n",
              "2           9  0.793750\n",
              "3          10  0.793750\n",
              "4          11  0.793750\n",
              "5           4  0.781250\n",
              "6           5  0.781250\n",
              "7           6  0.781250\n",
              "8           3  0.721875\n",
              "9           2  0.706250\n",
              "10          1  0.603125"
            ]
          },
          "metadata": {},
          "execution_count": 55
        }
      ]
    },
    {
      "cell_type": "code",
      "metadata": {
        "colab": {
          "base_uri": "https://localhost:8080/",
          "height": 731
        },
        "id": "QxVybLAlXjk9",
        "outputId": "8a203bb7-d7bd-4807-afcc-c5aeb75d55e2"
      },
      "source": [
        "model = LogisticRegression(max_iter=1000, solver='lbfgs', class_weight='balanced')\n",
        "# model.fit(X_train, Y_train);\n",
        "\n",
        "pipe = Pipeline([('fselector', SelectKBest(chi2, k=all_lr['n_feature'][0])), ('lr', model)])\n",
        "pipe.fit(X_train, Y_train)\n",
        "new_Y_pewd = pipe.predict_proba(X_test)\n",
        "\n",
        "# new_Y_pewd = model.predict_proba(X_test)\n",
        "umbral_prob = 0.5\n",
        "Y_pred = [0 if p>umbral_prob else 1 for p in new_Y_pewd[:,0]]\n",
        "get_scores(Y_pred, new_Y_pewd, Y_test)"
      ],
      "execution_count": null,
      "outputs": [
        {
          "output_type": "display_data",
          "data": {
            "image/png": "[encoded data removed]",
            "text/plain": [
              "<Figure size 432x288 with 1 Axes>"
            ]
          },
          "metadata": {
            "needs_background": "light"
          }
        },
        {
          "output_type": "stream",
          "name": "stdout",
          "text": [
            "AUC: 0.8334961509905825\n",
            "              precision    recall  f1-score   support\n",
            "\n",
            "           0       0.80      0.80      0.80       163\n",
            "           1       0.79      0.79      0.79       157\n",
            "\n",
            "    accuracy                           0.80       320\n",
            "   macro avg       0.80      0.80      0.80       320\n",
            "weighted avg       0.80      0.80      0.80       320\n",
            "\n"
          ]
        },
        {
          "output_type": "execute_result",
          "data": {
            "text/plain": [
              "0.796875"
            ]
          },
          "metadata": {},
          "execution_count": 56
        },
        {
          "output_type": "display_data",
          "data": {
            "image/png": "[encoded data removed]",
            "text/plain": [
              "<Figure size 432x288 with 1 Axes>"
            ]
          },
          "metadata": {
            "needs_background": "light"
          }
        }
      ]
    },
    {
      "cell_type": "markdown",
      "metadata": {
        "id": "VzflA_AhdUBO"
      },
      "source": [
        "### IMPORTANCIA DE LOS FEATURES"
      ]
    },
    {
      "cell_type": "code",
      "metadata": {
        "colab": {
          "base_uri": "https://localhost:8080/",
          "height": 393
        },
        "id": "9TStrOQPVx1G",
        "outputId": "1864a2b7-d4e9-4ea8-c074-3f39487e2e0c"
      },
      "source": [
        "model = GaussianNB()\n",
        "pipe = Pipeline([('gnb', model)])\n",
        "# model.fit(X_train, Y_train);\n",
        "f_importance = []\n",
        "for i in range(len(features)):\n",
        "  n_f = list(X_train.columns)\n",
        "  n_f.pop(i)\n",
        "  X_train_n = X_train[n_f]\n",
        "  X_test_n = X_test[n_f]\n",
        "  \n",
        "  pipe.fit(X_train_n, Y_train)\n",
        "  new_Y_pewd = pipe.predict_proba(X_test_n)\n",
        "\n",
        "  # new_Y_pewd = model.predict_proba(X_test)\n",
        "  umbral_prob = 0.5\n",
        "  Y_pred = [0 if p>umbral_prob else 1 for p in new_Y_pewd[:,0]]\n",
        "  accuracy = accuracy_score(Y_test, Y_pred)\n",
        "\n",
        "  f_importance += [(features[i], accuracy)]\n",
        "\n",
        "pd.DataFrame(sorted(f_importance, key=lambda x:x[1], reverse=True), columns=['feature_extracted', 'acc'])"
      ],
      "execution_count": null,
      "outputs": [
        {
          "output_type": "execute_result",
          "data": {
            "text/html": [
              "<div>\n",
              "<style scoped>\n",
              "    .dataframe tbody tr th:only-of-type {\n",
              "        vertical-align: middle;\n",
              "    }\n",
              "\n",
              "    .dataframe tbody tr th {\n",
              "        vertical-align: top;\n",
              "    }\n",
              "\n",
              "    .dataframe thead th {\n",
              "        text-align: right;\n",
              "    }\n",
              "</style>\n",
              "<table border=\"1\" class=\"dataframe\">\n",
              "  <thead>\n",
              "    <tr style=\"text-align: right;\">\n",
              "      <th></th>\n",
              "      <th>feature_extracted</th>\n",
              "      <th>acc</th>\n",
              "    </tr>\n",
              "  </thead>\n",
              "  <tbody>\n",
              "    <tr>\n",
              "      <th>0</th>\n",
              "      <td>total sulfur dioxide</td>\n",
              "      <td>0.778125</td>\n",
              "    </tr>\n",
              "    <tr>\n",
              "      <th>1</th>\n",
              "      <td>chlorides</td>\n",
              "      <td>0.775000</td>\n",
              "    </tr>\n",
              "    <tr>\n",
              "      <th>2</th>\n",
              "      <td>fixed acidity</td>\n",
              "      <td>0.753125</td>\n",
              "    </tr>\n",
              "    <tr>\n",
              "      <th>3</th>\n",
              "      <td>free sulfur dioxide</td>\n",
              "      <td>0.753125</td>\n",
              "    </tr>\n",
              "    <tr>\n",
              "      <th>4</th>\n",
              "      <td>density</td>\n",
              "      <td>0.753125</td>\n",
              "    </tr>\n",
              "    <tr>\n",
              "      <th>5</th>\n",
              "      <td>residual sugar</td>\n",
              "      <td>0.750000</td>\n",
              "    </tr>\n",
              "    <tr>\n",
              "      <th>6</th>\n",
              "      <td>sulphates</td>\n",
              "      <td>0.750000</td>\n",
              "    </tr>\n",
              "    <tr>\n",
              "      <th>7</th>\n",
              "      <td>pH</td>\n",
              "      <td>0.746875</td>\n",
              "    </tr>\n",
              "    <tr>\n",
              "      <th>8</th>\n",
              "      <td>citric acid</td>\n",
              "      <td>0.743750</td>\n",
              "    </tr>\n",
              "    <tr>\n",
              "      <th>9</th>\n",
              "      <td>volatile acidity</td>\n",
              "      <td>0.721875</td>\n",
              "    </tr>\n",
              "    <tr>\n",
              "      <th>10</th>\n",
              "      <td>alcohol</td>\n",
              "      <td>0.668750</td>\n",
              "    </tr>\n",
              "  </tbody>\n",
              "</table>\n",
              "</div>"
            ],
            "text/plain": [
              "       feature_extracted       acc\n",
              "0   total sulfur dioxide  0.778125\n",
              "1              chlorides  0.775000\n",
              "2          fixed acidity  0.753125\n",
              "3    free sulfur dioxide  0.753125\n",
              "4                density  0.753125\n",
              "5         residual sugar  0.750000\n",
              "6              sulphates  0.750000\n",
              "7                     pH  0.746875\n",
              "8            citric acid  0.743750\n",
              "9       volatile acidity  0.721875\n",
              "10               alcohol  0.668750"
            ]
          },
          "metadata": {},
          "execution_count": 37
        }
      ]
    },
    {
      "cell_type": "code",
      "metadata": {
        "colab": {
          "base_uri": "https://localhost:8080/",
          "height": 393
        },
        "id": "id0BMwP0Yfh0",
        "outputId": "06677738-7d33-40cd-d33e-c3fc46f7c1a1"
      },
      "source": [
        "model = LogisticRegression(max_iter=1000, solver='lbfgs', class_weight='balanced')\n",
        "pipe = Pipeline([('lr', model)])\n",
        "# model.fit(X_train, Y_train);\n",
        "f_importance = []\n",
        "for i in range(len(features)):\n",
        "  n_f = list(X_train.columns)\n",
        "  n_f.pop(i)\n",
        "  X_train_n = X_train[n_f]\n",
        "  X_test_n = X_test[n_f]\n",
        "  \n",
        "  pipe.fit(X_train_n, Y_train)\n",
        "  new_Y_pewd = pipe.predict_proba(X_test_n)\n",
        "\n",
        "  # new_Y_pewd = model.predict_proba(X_test)\n",
        "  umbral_prob = 0.5\n",
        "  Y_pred = [0 if p>umbral_prob else 1 for p in new_Y_pewd[:,0]]\n",
        "  accuracy = accuracy_score(Y_test, Y_pred)\n",
        "\n",
        "  f_importance += [(features[i], accuracy)]\n",
        "\n",
        "pd.DataFrame(sorted(f_importance, key=lambda x:x[1], reverse=True), columns=['feature_extracted', 'acc'])"
      ],
      "execution_count": null,
      "outputs": [
        {
          "output_type": "execute_result",
          "data": {
            "text/html": [
              "<div>\n",
              "<style scoped>\n",
              "    .dataframe tbody tr th:only-of-type {\n",
              "        vertical-align: middle;\n",
              "    }\n",
              "\n",
              "    .dataframe tbody tr th {\n",
              "        vertical-align: top;\n",
              "    }\n",
              "\n",
              "    .dataframe thead th {\n",
              "        text-align: right;\n",
              "    }\n",
              "</style>\n",
              "<table border=\"1\" class=\"dataframe\">\n",
              "  <thead>\n",
              "    <tr style=\"text-align: right;\">\n",
              "      <th></th>\n",
              "      <th>feature_extracted</th>\n",
              "      <th>acc</th>\n",
              "    </tr>\n",
              "  </thead>\n",
              "  <tbody>\n",
              "    <tr>\n",
              "      <th>0</th>\n",
              "      <td>residual sugar</td>\n",
              "      <td>0.793750</td>\n",
              "    </tr>\n",
              "    <tr>\n",
              "      <th>1</th>\n",
              "      <td>density</td>\n",
              "      <td>0.793750</td>\n",
              "    </tr>\n",
              "    <tr>\n",
              "      <th>2</th>\n",
              "      <td>pH</td>\n",
              "      <td>0.793750</td>\n",
              "    </tr>\n",
              "    <tr>\n",
              "      <th>3</th>\n",
              "      <td>citric acid</td>\n",
              "      <td>0.787500</td>\n",
              "    </tr>\n",
              "    <tr>\n",
              "      <th>4</th>\n",
              "      <td>chlorides</td>\n",
              "      <td>0.787500</td>\n",
              "    </tr>\n",
              "    <tr>\n",
              "      <th>5</th>\n",
              "      <td>fixed acidity</td>\n",
              "      <td>0.784375</td>\n",
              "    </tr>\n",
              "    <tr>\n",
              "      <th>6</th>\n",
              "      <td>free sulfur dioxide</td>\n",
              "      <td>0.784375</td>\n",
              "    </tr>\n",
              "    <tr>\n",
              "      <th>7</th>\n",
              "      <td>total sulfur dioxide</td>\n",
              "      <td>0.784375</td>\n",
              "    </tr>\n",
              "    <tr>\n",
              "      <th>8</th>\n",
              "      <td>sulphates</td>\n",
              "      <td>0.781250</td>\n",
              "    </tr>\n",
              "    <tr>\n",
              "      <th>9</th>\n",
              "      <td>volatile acidity</td>\n",
              "      <td>0.728125</td>\n",
              "    </tr>\n",
              "    <tr>\n",
              "      <th>10</th>\n",
              "      <td>alcohol</td>\n",
              "      <td>0.693750</td>\n",
              "    </tr>\n",
              "  </tbody>\n",
              "</table>\n",
              "</div>"
            ],
            "text/plain": [
              "       feature_extracted       acc\n",
              "0         residual sugar  0.793750\n",
              "1                density  0.793750\n",
              "2                     pH  0.793750\n",
              "3            citric acid  0.787500\n",
              "4              chlorides  0.787500\n",
              "5          fixed acidity  0.784375\n",
              "6    free sulfur dioxide  0.784375\n",
              "7   total sulfur dioxide  0.784375\n",
              "8              sulphates  0.781250\n",
              "9       volatile acidity  0.728125\n",
              "10               alcohol  0.693750"
            ]
          },
          "metadata": {},
          "execution_count": 38
        }
      ]
    },
    {
      "cell_type": "markdown",
      "metadata": {
        "id": "1U6NuhRxcWok"
      },
      "source": [
        "# Parte 4\n",
        "Explique las bases teóricas del algoritmo k-NN (k-nearest neighbors) y aplíquelo al dataset. Compare con los resultados obtenidos en la parte 3.\n",
        "\n"
      ]
    },
    {
      "cell_type": "markdown",
      "metadata": {
        "id": "OLPwnFGkchOd"
      },
      "source": [
        "# Bases teóricas\n",
        "El algoritmo de k-nearest neighbors (KNN) es un algoritmo de aprendizaje automático supervisado simple que se puede utilizar para resolver problemas de clasificación y regresión. Es fácil de implementar y comprender, pero tiene el principal inconveniente de que se ralentiza significativamente a medida que aumenta el tamaño de los datos en uso. \n",
        "\n",
        "KNN funciona encontrando las distancias entre una consulta y todas las instancias en los datos de entrenamient, seleccionando las K instancias más cercanos a la consulta. Luego vota por la etiqueta más frecuente (en el caso de clasificación) o promedia las etiquetas (en el caso de la regresión). \n",
        "En nuestro caso, ademas, se propone seleccionar los features de las instancias que aporten mayor cantidad de informacion para la prediccion de la clase 'quality'.\n",
        "\n",
        "Por ultimo, determinar el valor K puede ser una tarea comleja. A mayor K, se esperaria poder tener mejores resultados. Pero un K demasiado grande, puede ser contraproducente para el modelo, ya que se considerarian como similares demasiadas instancias."
      ]
    },
    {
      "cell_type": "code",
      "metadata": {
        "id": "cvyje4VpcwQ9"
      },
      "source": [
        "from sklearn.neighbors import KNeighborsClassifier"
      ],
      "execution_count": null,
      "outputs": []
    },
    {
      "cell_type": "code",
      "metadata": {
        "colab": {
          "base_uri": "https://localhost:8080/",
          "height": 422
        },
        "id": "DV96D56rSxa0",
        "outputId": "20241eaf-4324-4f5c-a910-138e2ea1afe5"
      },
      "source": [
        "all_results = []\n",
        "for f in range(1,len(features)):\n",
        "  for K in range(5,120,5):  \n",
        "    model = KNeighborsClassifier (n_neighbors=K)\n",
        "\n",
        "    pipe = Pipeline([('fselector', SelectKBest(chi2, k=f)), ('knn', model)])\n",
        "    pipe.fit(X_train, Y_train)\n",
        "    new_Y_pewd = pipe.predict_proba(X_test)\n",
        "\n",
        "    umbral_prob = 0.5\n",
        "    Y_pred = [0 if p>umbral_prob else 1 for p in new_Y_pewd[:,0]]\n",
        "    all_results += [(K,get_scores(Y_pred, new_Y_pewd, Y_test, False),f)]\n",
        "\n",
        "pd.DataFrame(sorted(all_results, key = lambda x : x[1], reverse=True), columns=['K', 'acc', 'n_features'])"
      ],
      "execution_count": null,
      "outputs": [
        {
          "output_type": "execute_result",
          "data": {
            "text/html": [
              "<div>\n",
              "<style scoped>\n",
              "    .dataframe tbody tr th:only-of-type {\n",
              "        vertical-align: middle;\n",
              "    }\n",
              "\n",
              "    .dataframe tbody tr th {\n",
              "        vertical-align: top;\n",
              "    }\n",
              "\n",
              "    .dataframe thead th {\n",
              "        text-align: right;\n",
              "    }\n",
              "</style>\n",
              "<table border=\"1\" class=\"dataframe\">\n",
              "  <thead>\n",
              "    <tr style=\"text-align: right;\">\n",
              "      <th></th>\n",
              "      <th>K</th>\n",
              "      <th>acc</th>\n",
              "      <th>n_features</th>\n",
              "    </tr>\n",
              "  </thead>\n",
              "  <tbody>\n",
              "    <tr>\n",
              "      <th>0</th>\n",
              "      <td>5</td>\n",
              "      <td>0.709375</td>\n",
              "      <td>2</td>\n",
              "    </tr>\n",
              "    <tr>\n",
              "      <th>1</th>\n",
              "      <td>15</td>\n",
              "      <td>0.678125</td>\n",
              "      <td>2</td>\n",
              "    </tr>\n",
              "    <tr>\n",
              "      <th>2</th>\n",
              "      <td>10</td>\n",
              "      <td>0.675000</td>\n",
              "      <td>2</td>\n",
              "    </tr>\n",
              "    <tr>\n",
              "      <th>3</th>\n",
              "      <td>25</td>\n",
              "      <td>0.659375</td>\n",
              "      <td>2</td>\n",
              "    </tr>\n",
              "    <tr>\n",
              "      <th>4</th>\n",
              "      <td>30</td>\n",
              "      <td>0.653125</td>\n",
              "      <td>2</td>\n",
              "    </tr>\n",
              "    <tr>\n",
              "      <th>...</th>\n",
              "      <td>...</td>\n",
              "      <td>...</td>\n",
              "      <td>...</td>\n",
              "    </tr>\n",
              "    <tr>\n",
              "      <th>225</th>\n",
              "      <td>20</td>\n",
              "      <td>0.556250</td>\n",
              "      <td>1</td>\n",
              "    </tr>\n",
              "    <tr>\n",
              "      <th>226</th>\n",
              "      <td>45</td>\n",
              "      <td>0.556250</td>\n",
              "      <td>1</td>\n",
              "    </tr>\n",
              "    <tr>\n",
              "      <th>227</th>\n",
              "      <td>50</td>\n",
              "      <td>0.556250</td>\n",
              "      <td>1</td>\n",
              "    </tr>\n",
              "    <tr>\n",
              "      <th>228</th>\n",
              "      <td>55</td>\n",
              "      <td>0.556250</td>\n",
              "      <td>1</td>\n",
              "    </tr>\n",
              "    <tr>\n",
              "      <th>229</th>\n",
              "      <td>10</td>\n",
              "      <td>0.537500</td>\n",
              "      <td>1</td>\n",
              "    </tr>\n",
              "  </tbody>\n",
              "</table>\n",
              "<p>230 rows × 3 columns</p>\n",
              "</div>"
            ],
            "text/plain": [
              "      K       acc  n_features\n",
              "0     5  0.709375           2\n",
              "1    15  0.678125           2\n",
              "2    10  0.675000           2\n",
              "3    25  0.659375           2\n",
              "4    30  0.653125           2\n",
              "..   ..       ...         ...\n",
              "225  20  0.556250           1\n",
              "226  45  0.556250           1\n",
              "227  50  0.556250           1\n",
              "228  55  0.556250           1\n",
              "229  10  0.537500           1\n",
              "\n",
              "[230 rows x 3 columns]"
            ]
          },
          "metadata": {},
          "execution_count": 41
        }
      ]
    },
    {
      "cell_type": "code",
      "metadata": {
        "id": "YEVBHFB1eGJI"
      },
      "source": [
        "all_results = []\n",
        "for f in range(1,len(features)):\n",
        "  for K in range(5,120,5):  \n",
        "    model = KNeighborsClassifier (n_neighbors=K, weights='distance') #Se probaron todos los algorithms y ninguno cambio los resultados\n",
        "\n",
        "    pipe = Pipeline([('fselector', SelectKBest(chi2, k=f)), ('knn', model)])\n",
        "    pipe.fit(X_train, Y_train)\n",
        "    new_Y_pewd = pipe.predict_proba(X_test)\n",
        "\n",
        "    umbral_prob = 0.5\n",
        "    Y_pred = [0 if p>umbral_prob else 1 for p in new_Y_pewd[:,0]]\n",
        "    all_results += [(K,get_scores(Y_pred, new_Y_pewd, Y_test, False),f)]\n",
        "\n",
        "all_results = sorted(all_results, key = lambda x : x[1], reverse=True)\n",
        "all_results = pd.DataFrame(all_results, columns=['K', 'acc', 'n_features'])\n",
        "all_results"
      ],
      "execution_count": null,
      "outputs": []
    },
    {
      "cell_type": "code",
      "metadata": {
        "colab": {
          "base_uri": "https://localhost:8080/",
          "height": 731
        },
        "id": "4BucvfEfUTPr",
        "outputId": "744d1aa2-7259-46b7-854f-d24ede340208"
      },
      "source": [
        "model = KNeighborsClassifier (n_neighbors=all_results['K'][0], weights='distance')\n",
        "\n",
        "pipe = Pipeline([('fselector', SelectKBest(chi2, k=all_results['n_features'][0])), ('knn', model)])\n",
        "pipe.fit(X_train, Y_train)\n",
        "new_Y_pewd = pipe.predict_proba(X_test)\n",
        "\n",
        "umbral_prob = 0.5\n",
        "Y_pred = [0 if p>umbral_prob else 1 for p in new_Y_pewd[:,0]]\n",
        "get_scores(Y_pred, new_Y_pewd, Y_test)"
      ],
      "execution_count": null,
      "outputs": [
        {
          "output_type": "display_data",
          "data": {
            "image/png": "[encoded data removed]",
            "text/plain": [
              "<Figure size 432x288 with 1 Axes>"
            ]
          },
          "metadata": {
            "needs_background": "light"
          }
        },
        {
          "output_type": "stream",
          "name": "stdout",
          "text": [
            "AUC: 0.7945566800828416\n",
            "              precision    recall  f1-score   support\n",
            "\n",
            "           0       0.76      0.66      0.71       163\n",
            "           1       0.69      0.78      0.73       157\n",
            "\n",
            "    accuracy                           0.72       320\n",
            "   macro avg       0.73      0.72      0.72       320\n",
            "weighted avg       0.73      0.72      0.72       320\n",
            "\n"
          ]
        },
        {
          "output_type": "execute_result",
          "data": {
            "text/plain": [
              "0.721875"
            ]
          },
          "metadata": {},
          "execution_count": 52
        },
        {
          "output_type": "display_data",
          "data": {
            "image/png": "[encoded data removed]",
            "text/plain": [
              "<Figure size 432x288 with 1 Axes>"
            ]
          },
          "metadata": {
            "needs_background": "light"
          }
        }
      ]
    },
    {
      "cell_type": "code",
      "metadata": {
        "id": "bpxpYuygW-l_"
      },
      "source": [
        ""
      ],
      "execution_count": null,
      "outputs": []
    }
  ]
}