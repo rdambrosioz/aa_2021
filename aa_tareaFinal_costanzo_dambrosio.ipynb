{
  "nbformat": 4,
  "nbformat_minor": 0,
  "metadata": {
    "colab": {
      "name": "aa_tareaFinal_costanzo_dambrosio.ipynb",
      "provenance": [],
      "authorship_tag": "ABX9TyMoVk6ElyOwWDemrrDzGeLF",
      "include_colab_link": true
    },
    "kernelspec": {
      "name": "python3",
      "display_name": "Python 3"
    },
    "language_info": {
      "name": "python"
    }
  },
  "cells": [
    {
      "cell_type": "markdown",
      "metadata": {
        "id": "view-in-github",
        "colab_type": "text"
      },
      "source": [
        "<a href=\"https://colab.research.google.com/github/rdambrosioz/aa_2021/blob/main/aa_tareaFinal_costanzo_dambrosio.ipynb\" target=\"_parent\"><img src=\"https://colab.research.google.com/assets/colab-badge.svg\" alt=\"Open In Colab\"/></a>"
      ]
    },
    {
      "cell_type": "markdown",
      "metadata": {
        "id": "2T8ajMTT7qQr"
      },
      "source": [
        "# **TAREA FINAL DE APRENDIZAJE AUTOMÁTICO**\n",
        "## Universidad de Montevideo\n",
        "## Ing. en Infórmatica - Sem 2, 2021\n",
        "### Docente: Sebastián Garcia\n",
        "\n",
        "\n",
        "## Grupo 2:\n",
        "* Bruno Costanzo\n",
        "* Renzo D'Ambrosio"
      ]
    },
    {
      "cell_type": "markdown",
      "metadata": {
        "id": "9VmGao117uj-"
      },
      "source": [
        "#PARTE 1"
      ]
    },
    {
      "cell_type": "markdown",
      "metadata": {
        "id": "mvXsOPf27xED"
      },
      "source": [
        "Efectúe un profundo EDA del dataset entregado. En caso de que existan dudas de la semántica de alguno de los features del dataset, se recomienda fuertemente investigar sobre el mismo y documentar el resultado."
      ]
    },
    {
      "cell_type": "code",
      "metadata": {
        "id": "oHk6Z-D67egw"
      },
      "source": [
        ""
      ],
      "execution_count": null,
      "outputs": []
    },
    {
      "cell_type": "code",
      "metadata": {
        "id": "aY5SZ8Xs71aj"
      },
      "source": [
        ""
      ],
      "execution_count": null,
      "outputs": []
    },
    {
      "cell_type": "code",
      "metadata": {
        "id": "MNmjKhIP71sn"
      },
      "source": [
        ""
      ],
      "execution_count": null,
      "outputs": []
    },
    {
      "cell_type": "markdown",
      "metadata": {
        "id": "cxArO3kY72Kp"
      },
      "source": [
        "# Parte 2"
      ]
    },
    {
      "cell_type": "markdown",
      "metadata": {
        "id": "Vqtkbp6H73-s"
      },
      "source": [
        "Utilizando las técnicas vistas en el curso, detecte las características de las poblaciones con mayor riesgo de muerte producto de un accidente cardiovascular"
      ]
    },
    {
      "cell_type": "code",
      "metadata": {
        "id": "Vcu-d03078FR"
      },
      "source": [
        ""
      ],
      "execution_count": null,
      "outputs": []
    },
    {
      "cell_type": "code",
      "metadata": {
        "id": "ZXXRlQcR78SA"
      },
      "source": [
        ""
      ],
      "execution_count": null,
      "outputs": []
    },
    {
      "cell_type": "code",
      "metadata": {
        "id": "yerfpzuO78j_"
      },
      "source": [
        ""
      ],
      "execution_count": null,
      "outputs": []
    },
    {
      "cell_type": "markdown",
      "metadata": {
        "id": "OoZKUr6q782-"
      },
      "source": [
        "# Parte 3"
      ]
    },
    {
      "cell_type": "markdown",
      "metadata": {
        "id": "IAatRRBy7-2Z"
      },
      "source": [
        "Para las poblaciones de mayor riesgo, en función de las respuestas obtenidas en el formulario de alta, determine el conjunto de resultados clínicos que el potencial asegurado debe entregar para avanzar en el proceso de obtención de la póliza."
      ]
    },
    {
      "cell_type": "code",
      "metadata": {
        "id": "Umc1xCwG8BDX"
      },
      "source": [
        ""
      ],
      "execution_count": null,
      "outputs": []
    },
    {
      "cell_type": "code",
      "metadata": {
        "id": "IRWwRaQ08BUC"
      },
      "source": [
        ""
      ],
      "execution_count": null,
      "outputs": []
    },
    {
      "cell_type": "code",
      "metadata": {
        "id": "8H1tY-of8Blq"
      },
      "source": [
        ""
      ],
      "execution_count": null,
      "outputs": []
    },
    {
      "cell_type": "markdown",
      "metadata": {
        "id": "hZMCVey38B4Z"
      },
      "source": [
        "# Parte 4"
      ]
    },
    {
      "cell_type": "markdown",
      "metadata": {
        "id": "t9hT2g068Dm2"
      },
      "source": [
        "Para el conjunto de respuestas obtenidas en el formulario de alta, diseñe un modelo predictivo que determine si el potencial asegurado requiere de la realización de análisis clínicos adicionales o la póliza le será entregada sin averiguaciones adicionales. Documente detalladamente todas las decisiones tomadas.\n",
        "Actualmente no existen formularios digitalizados con las respuestas de los asegurados, por lo que es necesario la generación de datos sintéticos que representen las distintas poblaciones. Esto datos serán los utilizados para el entrenamiento y test del modelo predictivo."
      ]
    },
    {
      "cell_type": "code",
      "metadata": {
        "id": "OH8D3XAn8MXl"
      },
      "source": [
        ""
      ],
      "execution_count": null,
      "outputs": []
    },
    {
      "cell_type": "code",
      "metadata": {
        "id": "YGeSRQQ28Mqa"
      },
      "source": [
        ""
      ],
      "execution_count": null,
      "outputs": []
    },
    {
      "cell_type": "code",
      "metadata": {
        "id": "dLncQduW8M7T"
      },
      "source": [
        ""
      ],
      "execution_count": null,
      "outputs": []
    }
  ]
}